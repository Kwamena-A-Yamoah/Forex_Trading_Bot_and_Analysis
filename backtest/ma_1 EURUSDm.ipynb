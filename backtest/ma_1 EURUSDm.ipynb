{
 "cells": [
  {
   "cell_type": "markdown",
   "metadata": {},
   "source": [
    "### M.A.C Overview"
   ]
  },
  {
   "cell_type": "markdown",
   "metadata": {},
   "source": [
    "__Moving Average Crossover Strategy: Overview and Market Conditions__\n",
    "\n",
    "The moving average crossover strategy is a widely used technical analysis tool for identifying potential buy and sell signals in financial markets. This strategy involves plotting two moving averages of different time periods—a shorter-term and a longer-term—and analyzing their interactions. When the shorter moving average crosses above the longer one, it generates a bullish signal (\"golden cross\"), while the opposite generates a bearish signal (\"death cross\").\n",
    "\n",
    "This document summarizes the optimal market conditions for using the moving average crossover strategy, its limitations, and specific Forex pairs that align with these scenarios.\n",
    "\n",
    "---\n",
    "\n",
    "__Optimal Market Conditions__\n",
    "\n",
    "1. __Trending Markets__\n",
    "   - **Bullish Trends**: The strategy works well in upward-trending markets. A \"golden cross\" signals potential entry points for long positions.\n",
    "     - **Examples**: \n",
    "       - **USD/JPY**: Often trends upward during U.S. economic strength or rising interest rates.\n",
    "       - **AUD/USD**: Reflects strong bullish trends during favorable commodity market conditions.\n",
    "   - **Bearish Trends**: Downward-trending markets provide opportunities for short positions when a \"death cross\" occurs.\n",
    "     - **Examples**: \n",
    "       - **EUR/USD**: Clear downward trends appear during eurozone economic challenges.\n",
    "       - **GBP/USD**: Exhibits bearish trends during political instability or negative Brexit developments.\n",
    "\n",
    "2. __Low Volatility Markets__\n",
    "   - The strategy performs better in low to moderate volatility conditions, avoiding frequent false signals.\n",
    "     - **Examples**: \n",
    "       - **EUR/CHF**: Relatively stable due to eurozone-Switzerland economic correlation.\n",
    "       - **USD/SGD**: Features consistent, low-volatility price movements absent major news events.\n",
    "\n",
    "3. __Markets with Consistent Trends and Cycles__\n",
    "   - Pairs that exhibit cyclical price behavior are well-suited for this strategy.\n",
    "     - **Examples**: \n",
    "       - **AUD/JPY**: Cycles tied to global risk sentiment.\n",
    "       - **NZD/USD**: Moves in patterns driven by agricultural exports and commodity markets.\n",
    "\n",
    "---\n",
    "\n",
    "__Limitations of Moving Average Crossovers__\n",
    "\n",
    "1. __Sideways or Range-Bound Markets__\n",
    "   - In choppy or range-bound conditions, the strategy often generates false signals, leading to losses.\n",
    "     - **Examples**: \n",
    "       - **EUR/GBP**: Commonly trades within a range due to economic interdependence.\n",
    "       - **USD/CAD**: Becomes range-bound during stable oil prices and economic parity.\n",
    "\n",
    "2. __High-Volatility Markets__\n",
    "   - Excessive price swings in volatile markets can produce unreliable signals, causing whipsaws.\n",
    "     - **Examples**: \n",
    "       - **GBP/JPY**: Known for erratic and high-volatility price movements.\n",
    "       - **XAU/USD (Gold)**: Frequently experiences sharp price fluctuations, making crossovers less reliable.\n",
    "\n",
    "---\n",
    "\n",
    "__Best Practices for Backtesting__\n",
    "\n",
    "- **Trending Pairs**: Use pairs like **EUR/USD** or **USD/JPY** to test the effectiveness of the strategy in trending conditions.\n",
    "- **Volatility Management**: Avoid highly volatile pairs like **GBP/JPY** or commodities like **XAU/USD** when testing pure crossover strategies.\n",
    "- **Combine Indicators**: Pair moving average crossovers with complementary technical tools (e.g., RSI, MACD) to filter false signals and enhance decision-making.\n",
    "\n",
    "---\n",
    "\n",
    "This summary provides a foundational understanding of the moving average crossover strategy, enabling informed parameter selection and context-specific application during backtesting.\n",
    "\n"
   ]
  },
  {
   "cell_type": "markdown",
   "metadata": {},
   "source": [
    "### Initialize and Login"
   ]
  },
  {
   "cell_type": "code",
   "execution_count": 36,
   "metadata": {},
   "outputs": [],
   "source": [
    "import MetaTrader5 as mt5\n",
    "import numpy as np\n",
    "import pandas as pd\n",
    "from datetime import datetime\n",
    "import calendar\n",
    "from tqdm import tqdm\n",
    "\n",
    "# For Charts\n",
    "import plotly.graph_objects as go\n",
    "\n",
    "# To access .env file\n",
    "from dotenv import load_dotenv\n",
    "\n",
    "# For random selection when TP and SL hit simultaneously\n",
    "import random  \n",
    "\n",
    "\n",
    "import os\n",
    "import time\n",
    "import talib\n",
    "from talib import abstract"
   ]
  },
  {
   "cell_type": "code",
   "execution_count": 37,
   "metadata": {},
   "outputs": [],
   "source": [
    "# Access .env file\n",
    "load_dotenv(\".env\")\n",
    "\n",
    "# Access variables directly\n",
    "username = int(os.getenv(\"USER_NAME\"))\n",
    "password = os.getenv(\"PASSWORD\")\n",
    "server = os.getenv(\"SERVER\")\n",
    "\n",
    "symbols = os.getenv(\"SYMBOLS\")"
   ]
  },
  {
   "cell_type": "code",
   "execution_count": 38,
   "metadata": {},
   "outputs": [
    {
     "name": "stdout",
     "output_type": "stream",
     "text": [
      "MetaTrader successfully initialized\n",
      "MetaTrader login successful\n"
     ]
    }
   ],
   "source": [
    "# Initialize and log in to MetaTrader 5\n",
    "# connect to MetaTrader 5\n",
    "try:\n",
    "    # Initialize MetaTrader 5\n",
    "    if mt5.initialize():\n",
    "        print(\"MetaTrader successfully initialized\")\n",
    "        \n",
    "        # Log in to MetaTrader 5\n",
    "        if mt5.login(login=username, password=password, server=server):\n",
    "            print(\"MetaTrader login successful\")\n",
    "                \n",
    "        else:\n",
    "            print(\"MetaTrader login failed\")\n",
    "            mt5.shutdown()  # Ensure shutdown if login fails\n",
    "    else:\n",
    "        print(\"Failed to initialize MetaTrader 5\")\n",
    "except Exception as e:\n",
    "    print(f\"An error occurred: {e}\")"
   ]
  },
  {
   "cell_type": "markdown",
   "metadata": {},
   "source": [
    "### TA-Library"
   ]
  },
  {
   "cell_type": "code",
   "execution_count": 31,
   "metadata": {},
   "outputs": [
    {
     "data": {
      "text/plain": [
       "['Cycle Indicators',\n",
       " 'Math Operators',\n",
       " 'Math Transform',\n",
       " 'Momentum Indicators',\n",
       " 'Overlap Studies',\n",
       " 'Pattern Recognition',\n",
       " 'Price Transform',\n",
       " 'Statistic Functions',\n",
       " 'Volatility Indicators',\n",
       " 'Volume Indicators']"
      ]
     },
     "execution_count": 31,
     "metadata": {},
     "output_type": "execute_result"
    }
   ],
   "source": [
    "list(talib.get_function_groups().keys())"
   ]
  },
  {
   "cell_type": "code",
   "execution_count": 32,
   "metadata": {},
   "outputs": [
    {
     "data": {
      "text/plain": [
       "['ADX',\n",
       " 'ADXR',\n",
       " 'APO',\n",
       " 'AROON',\n",
       " 'AROONOSC',\n",
       " 'BOP',\n",
       " 'CCI',\n",
       " 'CMO',\n",
       " 'DX',\n",
       " 'MACD',\n",
       " 'MACDEXT',\n",
       " 'MACDFIX',\n",
       " 'MFI',\n",
       " 'MINUS_DI',\n",
       " 'MINUS_DM',\n",
       " 'MOM',\n",
       " 'PLUS_DI',\n",
       " 'PLUS_DM',\n",
       " 'PPO',\n",
       " 'ROC',\n",
       " 'ROCP',\n",
       " 'ROCR',\n",
       " 'ROCR100',\n",
       " 'RSI',\n",
       " 'STOCH',\n",
       " 'STOCHF',\n",
       " 'STOCHRSI',\n",
       " 'TRIX',\n",
       " 'ULTOSC',\n",
       " 'WILLR']"
      ]
     },
     "execution_count": 32,
     "metadata": {},
     "output_type": "execute_result"
    }
   ],
   "source": [
    "talib.get_function_groups()['Momentum Indicators']"
   ]
  },
  {
   "cell_type": "code",
   "execution_count": null,
   "metadata": {},
   "outputs": [
    {
     "data": {
      "text/plain": [
       "['HT_DCPERIOD',\n",
       " 'HT_DCPHASE',\n",
       " 'HT_PHASOR',\n",
       " 'HT_SINE',\n",
       " 'HT_TRENDMODE',\n",
       " 'ADD',\n",
       " 'DIV',\n",
       " 'MAX',\n",
       " 'MAXINDEX',\n",
       " 'MIN',\n",
       " 'MININDEX',\n",
       " 'MINMAX',\n",
       " 'MINMAXINDEX',\n",
       " 'MULT',\n",
       " 'SUB',\n",
       " 'SUM',\n",
       " 'ACOS',\n",
       " 'ASIN',\n",
       " 'ATAN',\n",
       " 'CEIL',\n",
       " 'COS',\n",
       " 'COSH',\n",
       " 'EXP',\n",
       " 'FLOOR',\n",
       " 'LN',\n",
       " 'LOG10',\n",
       " 'SIN',\n",
       " 'SINH',\n",
       " 'SQRT',\n",
       " 'TAN',\n",
       " 'TANH',\n",
       " 'ADX',\n",
       " 'ADXR',\n",
       " 'APO',\n",
       " 'AROON',\n",
       " 'AROONOSC',\n",
       " 'BOP',\n",
       " 'CCI',\n",
       " 'CMO',\n",
       " 'DX',\n",
       " 'MACD',\n",
       " 'MACDEXT',\n",
       " 'MACDFIX',\n",
       " 'MFI',\n",
       " 'MINUS_DI',\n",
       " 'MINUS_DM',\n",
       " 'MOM',\n",
       " 'PLUS_DI',\n",
       " 'PLUS_DM',\n",
       " 'PPO',\n",
       " 'ROC',\n",
       " 'ROCP',\n",
       " 'ROCR',\n",
       " 'ROCR100',\n",
       " 'RSI',\n",
       " 'STOCH',\n",
       " 'STOCHF',\n",
       " 'STOCHRSI',\n",
       " 'TRIX',\n",
       " 'ULTOSC',\n",
       " 'WILLR',\n",
       " 'BBANDS',\n",
       " 'DEMA',\n",
       " 'EMA',\n",
       " 'HT_TRENDLINE',\n",
       " 'KAMA',\n",
       " 'MA',\n",
       " 'MAMA',\n",
       " 'MAVP',\n",
       " 'MIDPOINT',\n",
       " 'MIDPRICE',\n",
       " 'SAR',\n",
       " 'SAREXT',\n",
       " 'SMA',\n",
       " 'T3',\n",
       " 'TEMA',\n",
       " 'TRIMA',\n",
       " 'WMA',\n",
       " 'CDL2CROWS',\n",
       " 'CDL3BLACKCROWS',\n",
       " 'CDL3INSIDE',\n",
       " 'CDL3LINESTRIKE',\n",
       " 'CDL3OUTSIDE',\n",
       " 'CDL3STARSINSOUTH',\n",
       " 'CDL3WHITESOLDIERS',\n",
       " 'CDLABANDONEDBABY',\n",
       " 'CDLADVANCEBLOCK',\n",
       " 'CDLBELTHOLD',\n",
       " 'CDLBREAKAWAY',\n",
       " 'CDLCLOSINGMARUBOZU',\n",
       " 'CDLCONCEALBABYSWALL',\n",
       " 'CDLCOUNTERATTACK',\n",
       " 'CDLDARKCLOUDCOVER',\n",
       " 'CDLDOJI',\n",
       " 'CDLDOJISTAR',\n",
       " 'CDLDRAGONFLYDOJI',\n",
       " 'CDLENGULFING',\n",
       " 'CDLEVENINGDOJISTAR',\n",
       " 'CDLEVENINGSTAR',\n",
       " 'CDLGAPSIDESIDEWHITE',\n",
       " 'CDLGRAVESTONEDOJI',\n",
       " 'CDLHAMMER',\n",
       " 'CDLHANGINGMAN',\n",
       " 'CDLHARAMI',\n",
       " 'CDLHARAMICROSS',\n",
       " 'CDLHIGHWAVE',\n",
       " 'CDLHIKKAKE',\n",
       " 'CDLHIKKAKEMOD',\n",
       " 'CDLHOMINGPIGEON',\n",
       " 'CDLIDENTICAL3CROWS',\n",
       " 'CDLINNECK',\n",
       " 'CDLINVERTEDHAMMER',\n",
       " 'CDLKICKING',\n",
       " 'CDLKICKINGBYLENGTH',\n",
       " 'CDLLADDERBOTTOM',\n",
       " 'CDLLONGLEGGEDDOJI',\n",
       " 'CDLLONGLINE',\n",
       " 'CDLMARUBOZU',\n",
       " 'CDLMATCHINGLOW',\n",
       " 'CDLMATHOLD',\n",
       " 'CDLMORNINGDOJISTAR',\n",
       " 'CDLMORNINGSTAR',\n",
       " 'CDLONNECK',\n",
       " 'CDLPIERCING',\n",
       " 'CDLRICKSHAWMAN',\n",
       " 'CDLRISEFALL3METHODS',\n",
       " 'CDLSEPARATINGLINES',\n",
       " 'CDLSHOOTINGSTAR',\n",
       " 'CDLSHORTLINE',\n",
       " 'CDLSPINNINGTOP',\n",
       " 'CDLSTALLEDPATTERN',\n",
       " 'CDLSTICKSANDWICH',\n",
       " 'CDLTAKURI',\n",
       " 'CDLTASUKIGAP',\n",
       " 'CDLTHRUSTING',\n",
       " 'CDLTRISTAR',\n",
       " 'CDLUNIQUE3RIVER',\n",
       " 'CDLUPSIDEGAP2CROWS',\n",
       " 'CDLXSIDEGAP3METHODS',\n",
       " 'AVGPRICE',\n",
       " 'MEDPRICE',\n",
       " 'TYPPRICE',\n",
       " 'WCLPRICE',\n",
       " 'BETA',\n",
       " 'CORREL',\n",
       " 'LINEARREG',\n",
       " 'LINEARREG_ANGLE',\n",
       " 'LINEARREG_INTERCEPT',\n",
       " 'LINEARREG_SLOPE',\n",
       " 'STDDEV',\n",
       " 'TSF',\n",
       " 'VAR',\n",
       " 'ATR',\n",
       " 'NATR',\n",
       " 'TRANGE',\n",
       " 'AD',\n",
       " 'ADOSC',\n",
       " 'OBV']"
      ]
     },
     "execution_count": 28,
     "metadata": {},
     "output_type": "execute_result"
    }
   ],
   "source": [
    "talib.get_functions()"
   ]
  },
  {
   "cell_type": "markdown",
   "metadata": {},
   "source": [
    "### Backtesting Optimized"
   ]
  },
  {
   "cell_type": "markdown",
   "metadata": {},
   "source": [
    "#### 1 (Ongoing)\n",
    "This code has the necessary modifications and is used to further create functions"
   ]
  },
  {
   "cell_type": "code",
   "execution_count": 171,
   "metadata": {},
   "outputs": [
    {
     "name": "stdout",
     "output_type": "stream",
     "text": [
      "                 Mar\n",
      "Trades          30.0\n",
      "Buy             15.0\n",
      "Sell            15.0\n",
      "Success         12.0\n",
      "Fail            18.0\n",
      "Pips Earn/Lost  -6.0\n"
     ]
    }
   ],
   "source": [
    "# Choosing currency pair\n",
    "symbols = \"EURUSDm\"\n",
    "\n",
    "# Retrieve currency data in 1 minute timeframe with a time range\n",
    "ticks = mt5.copy_rates_range(symbols, mt5.TIMEFRAME_M5, datetime(2024,3,1), datetime(2024,3,30))\n",
    "data = pd.DataFrame(ticks)\n",
    "data['time'] = pd.to_datetime(data['time'], unit='s')  # convert time including seconds\n",
    "data.rename(columns={\"tick_volume\": \"volume\"}, inplace=True)\n",
    "\n",
    "# Get the \"point\" or tick of the pair for symbol presumably = 0.00001\n",
    "sym_point = mt5.symbol_info(symbols).point\n",
    "\n",
    "# Define pip values and spread adjustment, a point is 0.00001\n",
    "take_profit_pips = 0.0005  # 5 pips for take profit\n",
    "stop_loss_pips = 0.0001    # 1 pips for stop loss\n",
    "\n",
    "# Sample DataFrame with close prices and moving averages (data)\n",
    "# Calculate Moving Averages\n",
    "data['MA_50'] = talib.SMA(data['close'], timeperiod=50)\n",
    "data['MA_200'] = talib.SMA(data['close'], timeperiod=200)\n",
    "\n",
    "# Initialize columns for trade entry prices, targets, and results\n",
    "data['Entry_Price'] = None\n",
    "data['Take_Profit'] = None\n",
    "data['Stop_Loss'] = None\n",
    "data['Trade'] = None  # 'Buy' or 'Sell'\n",
    "data['Trade_Success'] = None\n",
    "data['Pips'] = None\n",
    "\n",
    "# Identify crossovers and calculate thresholds in one pass\n",
    "buy_signals = (data['MA_50'] > data['MA_200']) & (data['MA_50'].shift(1) <= data['MA_200'].shift(1))\n",
    "sell_signals = (data['MA_50'] < data['MA_200']) & (data['MA_50'].shift(1) >= data['MA_200'].shift(1))\n",
    "\n",
    "# Buy signal: entry price + half spread, set TP and SL\n",
    "data.loc[buy_signals, 'Entry_Price'] = data['close'] + data['Spread']\n",
    "data.loc[buy_signals, 'Take_Profit'] = data['Entry_Price'] + take_profit_pips\n",
    "data.loc[buy_signals, 'Stop_Loss'] = data['Entry_Price'] - stop_loss_pips\n",
    "data.loc[buy_signals, 'Trade'] = 'Buy'\n",
    "\n",
    "# Sell signal: entry price - half spread, set TP and SL\n",
    "data.loc[sell_signals, 'Entry_Price'] = data['close'] - data['Spread']\n",
    "data.loc[sell_signals, 'Take_Profit'] = data['Entry_Price'] - take_profit_pips\n",
    "data.loc[sell_signals, 'Stop_Loss'] = data['Entry_Price'] + stop_loss_pips\n",
    "data.loc[sell_signals, 'Trade'] = 'Sell'\n",
    "\n",
    "# Check if TP or SL is hit in the next 1 to 200 periods for each trade row\n",
    "for i, row in data.iterrows():\n",
    "    if row['Trade'] in ['Buy', 'Sell']:\n",
    "        trade_success = 'No Result'\n",
    "        pips_result = 0  # Default pip result if no TP or SL is hit\n",
    "\n",
    "        # Iterate through increasing periods (1 to 200) to check TP/SL\n",
    "        for period in range(1, 1000):\n",
    "            # Define the future high and low within the current period\n",
    "            future_high = data['high'][i:i+period].max()\n",
    "            future_low = data['low'][i:i+period].min()\n",
    "\n",
    "            # Set conditions based on trade type\n",
    "            if row['Trade'] == 'Buy':\n",
    "                take_profit_hit = future_high >= row['Take_Profit']\n",
    "                stop_loss_hit = future_low <= row['Stop_Loss']\n",
    "            else:  # Sell\n",
    "                take_profit_hit = future_low <= row['Take_Profit']\n",
    "                stop_loss_hit = future_high >= row['Stop_Loss']\n",
    "\n",
    "            # Determine if TP or SL is hit within this period\n",
    "            if take_profit_hit:\n",
    "                trade_success = 'Success'\n",
    "                pips_result = take_profit_pips\n",
    "                break  # Exit the loop once TP is hit\n",
    "            elif stop_loss_hit:\n",
    "                trade_success = 'Fail'\n",
    "                pips_result = -1 * stop_loss_pips\n",
    "                break  # Exit the loop once SL is hit\n",
    "\n",
    "        # Update the DataFrame with the trade result\n",
    "        data.at[i, 'Trade_Success'] = trade_success\n",
    "        data.at[i, 'Pips'] = pips_result*10000\n",
    "\n",
    "# Filter and view only the trades\n",
    "trades_df = data.dropna(subset=['Trade'])\n",
    "\n",
    "# Get the month name\n",
    "month_name = datetime(2024,3,1).strftime(\"%b\")\n",
    "\n",
    "# Extract counts for each category\n",
    "buy_sell = trades_df[\"Trade\"].value_counts()\n",
    "success_fail = trades_df[\"Trade_Success\"].value_counts()\n",
    "total_trades = trades_df.shape[0]   # For the total count of trades\n",
    "sum_pips = trades_df.groupby(\"Trade_Success\")[\"Pips\"].sum().sum() # Sum of pips\n",
    "\n",
    "# Combine values into a DataFrame with the desired structure\n",
    "combined_df = pd.DataFrame({\n",
    "    month_name: [\n",
    "        total_trades,\n",
    "        buy_sell.get('Buy', 0),\n",
    "        buy_sell.get('Sell', 0),\n",
    "        success_fail.get('Success', 0),\n",
    "        success_fail.get('Fail', 0),\n",
    "        sum_pips\n",
    "        ]\n",
    "}, index=[\"Trades\",\"Buy\", \"Sell\", \"Success\", \"Fail\", \"Pips Earn/Lost\"])\n",
    "\n",
    "print(combined_df)\n",
    "\n"
   ]
  },
  {
   "cell_type": "code",
   "execution_count": 60,
   "metadata": {},
   "outputs": [
    {
     "data": {
      "text/html": [
       "<div>\n",
       "<style scoped>\n",
       "    .dataframe tbody tr th:only-of-type {\n",
       "        vertical-align: middle;\n",
       "    }\n",
       "\n",
       "    .dataframe tbody tr th {\n",
       "        vertical-align: top;\n",
       "    }\n",
       "\n",
       "    .dataframe thead th {\n",
       "        text-align: right;\n",
       "    }\n",
       "</style>\n",
       "<table border=\"1\" class=\"dataframe\">\n",
       "  <thead>\n",
       "    <tr style=\"text-align: right;\">\n",
       "      <th></th>\n",
       "      <th>time</th>\n",
       "      <th>Trade</th>\n",
       "      <th>Trade_Success</th>\n",
       "      <th>Pips</th>\n",
       "    </tr>\n",
       "  </thead>\n",
       "  <tbody>\n",
       "    <tr>\n",
       "      <th>593</th>\n",
       "      <td>2024-03-05 01:30:00</td>\n",
       "      <td>Sell</td>\n",
       "      <td>Fail</td>\n",
       "      <td>-1.0</td>\n",
       "    </tr>\n",
       "    <tr>\n",
       "      <th>762</th>\n",
       "      <td>2024-03-05 15:35:00</td>\n",
       "      <td>Buy</td>\n",
       "      <td>Success</td>\n",
       "      <td>1.0</td>\n",
       "    </tr>\n",
       "    <tr>\n",
       "      <th>879</th>\n",
       "      <td>2024-03-06 01:20:00</td>\n",
       "      <td>Sell</td>\n",
       "      <td>Fail</td>\n",
       "      <td>-1.0</td>\n",
       "    </tr>\n",
       "    <tr>\n",
       "      <th>955</th>\n",
       "      <td>2024-03-06 07:40:00</td>\n",
       "      <td>Buy</td>\n",
       "      <td>Success</td>\n",
       "      <td>1.0</td>\n",
       "    </tr>\n",
       "    <tr>\n",
       "      <th>1251</th>\n",
       "      <td>2024-03-07 08:20:00</td>\n",
       "      <td>Sell</td>\n",
       "      <td>Fail</td>\n",
       "      <td>-1.0</td>\n",
       "    </tr>\n",
       "  </tbody>\n",
       "</table>\n",
       "</div>"
      ],
      "text/plain": [
       "                    time Trade Trade_Success Pips\n",
       "593  2024-03-05 01:30:00  Sell          Fail -1.0\n",
       "762  2024-03-05 15:35:00   Buy       Success  1.0\n",
       "879  2024-03-06 01:20:00  Sell          Fail -1.0\n",
       "955  2024-03-06 07:40:00   Buy       Success  1.0\n",
       "1251 2024-03-07 08:20:00  Sell          Fail -1.0"
      ]
     },
     "execution_count": 60,
     "metadata": {},
     "output_type": "execute_result"
    }
   ],
   "source": [
    "trades_df[[\"time\",'Trade','Trade_Success','Pips']].head()"
   ]
  },
  {
   "cell_type": "markdown",
   "metadata": {},
   "source": [
    "#### Functions\n"
   ]
  },
  {
   "cell_type": "markdown",
   "metadata": {},
   "source": [
    "__NB__\n",
    "- The \"No Result\" status indicates that neither the Take Profit (TP) nor the Stop Loss (SL) was hit within the available data range. This often occurs near the end of the dataset, for example, if the data covers one month, trades toward the end of that month are more likely to show \"No Result.\" The same applies if the data range spans a year."
   ]
  },
  {
   "cell_type": "code",
   "execution_count": 4,
   "metadata": {},
   "outputs": [],
   "source": [
    "def get_year_dates(year):\n",
    "    \"\"\"\n",
    "    Returns the start and end dates of a given year. If the given year is the current year,\n",
    "    it returns the start of the year to the current date.\n",
    "\n",
    "    Parameters:\n",
    "        year (int): The year (e.g., 2024).\n",
    "\n",
    "    Returns:\n",
    "        tuple: A tuple containing the start and end dates as datetime objects.\n",
    "    \"\"\"\n",
    "    from datetime import datetime\n",
    "\n",
    "    # Get the current year and date\n",
    "    current_date = datetime.now()\n",
    "    current_year = current_date.year\n",
    "\n",
    "    # Determine start and end dates\n",
    "    start_date = datetime(year, 1, 1)\n",
    "    if year == current_year:\n",
    "        end_date = current_date\n",
    "    else:\n",
    "        end_date = datetime(year, 12, 31)\n",
    "\n",
    "    return start_date, end_date\n"
   ]
  },
  {
   "cell_type": "code",
   "execution_count": 39,
   "metadata": {},
   "outputs": [],
   "source": [
    "# Make the TP & SL a global variable\n",
    "tp_amount = 4\n",
    "sl_amount = 2"
   ]
  },
  {
   "cell_type": "code",
   "execution_count": 40,
   "metadata": {},
   "outputs": [],
   "source": [
    "# Backtests for a whole year\n",
    "def moving_average_backtest_year(symbol, timeframe, year, num1, num2):\n",
    "    \"\"\"\n",
    "    Performs a moving average crossover backtest for a given symbol, timeframe, and date range.\n",
    "\n",
    "    Parameters:\n",
    "        symbol (str): The trading symbol (e.g., \"EURUSDm\").\n",
    "        timeframe (int): The MetaTrader 5 timeframe constant (e.g., mt5.TIMEFRAME_M15).\n",
    "        year (int): The year (e.g., 2024).\n",
    "        num1 (int): The period for the first moving average.\n",
    "        num2 (int): The period for the second moving average.\n",
    "\n",
    "    Returns:\n",
    "        dict: A dictionary summarizing trade statistics, including total trades, \n",
    "              the number of buy and sell trades, successful and failed trades, \n",
    "              and the total pips earned or lost.\n",
    "    \"\"\"\n",
    "    # Get the dates\n",
    "    start_date = get_year_dates(year)[0]\n",
    "    end_date = get_year_dates(year)[1]\n",
    "\n",
    "    # Retrieve currency data in 15 minute timeframe with a time range\n",
    "    ticks = mt5.copy_rates_range(symbol, timeframe, start_date, end_date)\n",
    "    data = pd.DataFrame(ticks)\n",
    "    data['time'] = pd.to_datetime(data['time'], unit='s')  # convert time including seconds\n",
    "    data.rename(columns={\"tick_volume\": \"volume\"}, inplace=True)\n",
    "\n",
    "    # Get the \"point\" or tick of the pair for symbol presumably = 0.00001\n",
    "    sym_point = mt5.symbol_info(symbol).point\n",
    "    \n",
    "    # Define pip values and spread adjustment\n",
    "    # At 0.01 pips 100 points = 10 pips = 1$\n",
    "    take_profit_pips = tp_amount * (sym_point * 100)  # 10 pips, 5$ for take profit\n",
    "    stop_loss_pips = sl_amount * (sym_point * 100)  # 10 pips, 1$ below entry\n",
    "\n",
    "    \n",
    "    # Create column name from num1 and num2\n",
    "    name1 = \"MA_\" + str(num1)\n",
    "    name2 = \"MA_\" + str(num2)\n",
    "\n",
    "    # Sample DataFrame with close prices and moving averages (data)\n",
    "    # Calculate Moving Averages\n",
    "    data[name1] = talib.SMA(data['close'], timeperiod=num1)\n",
    "    data[name2] = talib.SMA(data['close'], timeperiod=num2)\n",
    "\n",
    "    # Initialize columns for trade entry prices, targets, and results\n",
    "    data['Entry_Price'] = None\n",
    "    data['Take_Profit'] = None\n",
    "    data['Stop_Loss'] = None\n",
    "    data['Trade'] = None  # 'Buy' or 'Sell'\n",
    "    data['Trade_Success'] = None\n",
    "    data['Pips'] = None\n",
    "\n",
    "    # Identify crossovers and calculate thresholds in one pass\n",
    "    buy_signals = (data[name1] > data[name2]) & (data[name1].shift(1) <= data[name2].shift(1))\n",
    "    sell_signals = (data[name1] < data[name2]) & (data[name1].shift(1) >= data[name2].shift(1))\n",
    "\n",
    "    # Buy signal: entry price + half spread, set TP and SL\n",
    "    data.loc[buy_signals, 'Entry_Price'] = data['close'] + (data['spread']*sym_point)\n",
    "    data.loc[buy_signals, 'Take_Profit'] = data['Entry_Price'] + take_profit_pips\n",
    "    data.loc[buy_signals, 'Stop_Loss'] = data['Entry_Price'] - stop_loss_pips\n",
    "    data.loc[buy_signals, 'Trade'] = 'Buy'\n",
    "\n",
    "    # Sell signal: entry price - spread, set TP and SL\n",
    "    data.loc[sell_signals, 'Entry_Price'] = data['close'] - (data['spread']*sym_point)\n",
    "    data.loc[sell_signals, 'Take_Profit'] = data['Entry_Price'] - take_profit_pips\n",
    "    data.loc[sell_signals, 'Stop_Loss'] = data['Entry_Price'] + stop_loss_pips\n",
    "    data.loc[sell_signals, 'Trade'] = 'Sell'\n",
    "\n",
    "    # Check if TP or SL is hit in the next 1 to 200 periods for each trade row\n",
    "    for i, row in data.iterrows():\n",
    "        if row['Trade'] in ['Buy', 'Sell']:\n",
    "            trade_success = 'No Result'\n",
    "            pips_result = 0  # Default pip result if no TP or SL is hit\n",
    "\n",
    "            # Iterate through increasing periods (1 to 200) to check TP/SL\n",
    "            for period in range(1, 1000):\n",
    "                # Define the future high and low within the current period\n",
    "                future_high = data['high'][i:i+period].max()\n",
    "                future_low = data['low'][i:i+period].min()\n",
    "\n",
    "                # Set conditions based on trade type\n",
    "                if row['Trade'] == 'Buy':\n",
    "                    take_profit_hit = future_high >= row['Take_Profit']\n",
    "                    stop_loss_hit = future_low <= row['Stop_Loss']\n",
    "                else:  # Sell\n",
    "                    take_profit_hit = future_low <= row['Take_Profit']\n",
    "                    stop_loss_hit = future_high >= row['Stop_Loss']\n",
    "                \n",
    "                # Determine if TP or SL is hit within this period\n",
    "                if take_profit_hit:\n",
    "                    trade_success = 'Success'\n",
    "                    pips_result = tp_amount\n",
    "                    break  # Exit the loop once TP is hit\n",
    "                elif stop_loss_hit:\n",
    "                    trade_success = 'Fail'\n",
    "                    pips_result = -1 * sl_amount\n",
    "                    break  # Exit the loop once SL is hit\n",
    "\n",
    "            # Update the DataFrame with the trade result\n",
    "            data.at[i, 'Trade_Success'] = trade_success\n",
    "            data.at[i, 'Pips'] = pips_result\n",
    "\n",
    "    # Filter and view only the trades\n",
    "    trades_df = data.dropna(subset=['Trade'])\n",
    "\n",
    "\n",
    "    # Extract counts for each category\n",
    "    buy_sell = trades_df[\"Trade\"].value_counts()\n",
    "    success_fail = trades_df[\"Trade_Success\"].value_counts()\n",
    "    successful_trade = trades_df[trades_df[\"Trade_Success\"]==\"Success\"].shape[0]\n",
    "    total_trades = trades_df.shape[0]   # For the total count of trades\n",
    "    sum_pips = trades_df.groupby(\"Trade_Success\")[\"Pips\"].sum().sum() # Sum of pips\n",
    "\n",
    "    combined_dict = {\n",
    "            \"Trades\": total_trades,\n",
    "            \"Buy\": buy_sell.get('Buy', 0),\n",
    "            \"Sell\": buy_sell.get('Sell', 0),\n",
    "            \"Success\": success_fail.get('Success', 0),\n",
    "            \"Fail\": success_fail.get('Fail', 0),\n",
    "            \"No Result\": success_fail.get('No Result', 0),\n",
    "            \"Pips Earn/Lost\": sum_pips,\n",
    "            \"Win Rate %\": round((successful_trade/total_trades)*100, 0)\n",
    "        }\n",
    "    \n",
    "\n",
    "    return combined_dict"
   ]
  },
  {
   "cell_type": "code",
   "execution_count": 41,
   "metadata": {},
   "outputs": [],
   "source": [
    "# Backtests result shows for each month of the year\n",
    "def moving_average_backtest_year_month(symbol, timeframe, year, num1, num2):\n",
    "    \"\"\"\n",
    "    Performs a moving average crossover backtest for a given symbol, timeframe, and date range.\n",
    "\n",
    "    Parameters:\n",
    "        symbol (str): The trading symbol (e.g., \"EURUSDm\").\n",
    "        timeframe (int): The MetaTrader 5 timeframe constant (e.g., mt5.TIMEFRAME_M15).\n",
    "        year (int): The year (e.g., 2024).\n",
    "        num1 (int): The period for the first moving average.\n",
    "        num2 (int): The period for the second moving average.\n",
    "\n",
    "    Returns:\n",
    "        pd.DataFrame: A DataFrame summarizing monthly trade statistics.\n",
    "    \"\"\"\n",
    "    # Get the dates\n",
    "    start_date = get_year_dates(year)[0]\n",
    "    end_date = get_year_dates(year)[1]\n",
    "\n",
    "    # Retrieve currency data\n",
    "    ticks = mt5.copy_rates_range(symbol, timeframe, start_date, end_date)\n",
    "    data = pd.DataFrame(ticks)\n",
    "    data['time'] = pd.to_datetime(data['time'], unit='s')  # Convert time including seconds\n",
    "    data.rename(columns={\"tick_volume\": \"volume\"}, inplace=True)\n",
    "\n",
    "    # Get the \"point\" or tick of the pair for symbol presumably = 0.00001\n",
    "    sym_point = mt5.symbol_info(symbol).point\n",
    "\n",
    "    # Define pip values and spread adjustment\n",
    "    take_profit_pips = tp_amount * (sym_point * 100)\n",
    "    stop_loss_pips = sl_amount * (sym_point * 100)\n",
    "\n",
    "    # Create column name from num1 and num2\n",
    "    name1 = \"MA_\" + str(num1)\n",
    "    name2 = \"MA_\" + str(num2)\n",
    "\n",
    "    # Calculate Moving Averages\n",
    "    data[name1] = talib.SMA(data['close'], timeperiod=num1)\n",
    "    data[name2] = talib.SMA(data['close'], timeperiod=num2)\n",
    "\n",
    "    # Initialize columns for trade entry prices, targets, and results\n",
    "    data['Entry_Price'] = None\n",
    "    data['Take_Profit'] = None\n",
    "    data['Stop_Loss'] = None\n",
    "    data['Trade'] = None  # 'Buy' or 'Sell'\n",
    "    data['Trade_Success'] = None\n",
    "    data['Pips'] = None\n",
    "\n",
    "    # Identify crossovers\n",
    "    buy_signals = (data[name1] > data[name2]) & (data[name1].shift(1) <= data[name2].shift(1))\n",
    "    sell_signals = (data[name1] < data[name2]) & (data[name1].shift(1) >= data[name2].shift(1))\n",
    "\n",
    "    # Assign trade details\n",
    "    data.loc[buy_signals, 'Entry_Price'] = data['close'] + (data['spread'] * sym_point)\n",
    "    data.loc[buy_signals, 'Take_Profit'] = data['Entry_Price'] + take_profit_pips\n",
    "    data.loc[buy_signals, 'Stop_Loss'] = data['Entry_Price'] - stop_loss_pips\n",
    "    data.loc[buy_signals, 'Trade'] = 'Buy'\n",
    "\n",
    "    data.loc[sell_signals, 'Entry_Price'] = data['close'] - (data['spread'] * sym_point)\n",
    "    data.loc[sell_signals, 'Take_Profit'] = data['Entry_Price'] - take_profit_pips\n",
    "    data.loc[sell_signals, 'Stop_Loss'] = data['Entry_Price'] + stop_loss_pips\n",
    "    data.loc[sell_signals, 'Trade'] = 'Sell'\n",
    "\n",
    "    # Check trade outcomes\n",
    "    for i, row in data.iterrows():\n",
    "        if row['Trade'] in ['Buy', 'Sell']:\n",
    "            trade_success = 'No Result'\n",
    "            pips_result = 0\n",
    "\n",
    "            for period in range(1, 1000):\n",
    "                future_high = data['high'][i:i + period].max()\n",
    "                future_low = data['low'][i:i + period].min()\n",
    "\n",
    "                if row['Trade'] == 'Buy':\n",
    "                    take_profit_hit = future_high >= row['Take_Profit']\n",
    "                    stop_loss_hit = future_low <= row['Stop_Loss']\n",
    "                else:\n",
    "                    take_profit_hit = future_low <= row['Take_Profit']\n",
    "                    stop_loss_hit = future_high >= row['Stop_Loss']\n",
    "\n",
    "                if take_profit_hit:\n",
    "                    trade_success = 'Success'\n",
    "                    pips_result = tp_amount\n",
    "                    break\n",
    "                elif stop_loss_hit:\n",
    "                    trade_success = 'Fail'\n",
    "                    pips_result = -sl_amount\n",
    "                    break\n",
    "\n",
    "            data.at[i, 'Trade_Success'] = trade_success\n",
    "            data.at[i, 'Pips'] = pips_result\n",
    "\n",
    "    # Filter trades and add a 'Month' column\n",
    "    trades_df = data.dropna(subset=['Trade']).copy()\n",
    "    trades_df['Month'] = trades_df['time'].dt.month\n",
    "\n",
    "    # Aggregate monthly statistics\n",
    "    monthly_stats = trades_df.groupby('Month').agg(\n",
    "        Trades=('Trade', 'count'),\n",
    "        Buy=('Trade', lambda x: (x == 'Buy').sum()),\n",
    "        Sell=('Trade', lambda x: (x == 'Sell').sum()),\n",
    "        Success=('Trade_Success', lambda x: (x == 'Success').sum()),\n",
    "        Fail=('Trade_Success', lambda x: (x == 'Fail').sum()),\n",
    "        No_Result=('Trade_Success', lambda x: (x == 'No Result').sum()),\n",
    "        Pips_Earned_Lost=('Pips', 'sum')\n",
    "    ).reset_index()\n",
    "\n",
    "    # Map month numbers to names\n",
    "    monthly_stats['Month'] = monthly_stats['Month'].apply(lambda x: pd.Timestamp(f'2024-{x:02d}-01').strftime('%B'))\n",
    "\n",
    "    return monthly_stats\n"
   ]
  },
  {
   "cell_type": "code",
   "execution_count": 42,
   "metadata": {},
   "outputs": [],
   "source": [
    "def best_moving_averages(symbol, timeframe, year):\n",
    "    \"\"\"\n",
    "    Backtest multiple moving average crossovers strategies for a given symbol, timeframe, and year.\n",
    "    \n",
    "    Args:\n",
    "        symbol (str): The trading symbol (e.g., 'EURUSDm').\n",
    "        timeframe: Timeframe for the backtest (e.g., mt5.TIMEFRAME_H2).\n",
    "        year (int): Year for the backtest.\n",
    "    \n",
    "    FYI:\n",
    "        This function will take some time and some memory power to work\n",
    "    \n",
    "    Returns:\n",
    "        pd.DataFrame: A sorted DataFrame of the results.\n",
    "    \"\"\"\n",
    "    # Define the ranges for short and long moving averages\n",
    "    ma_short_range = range(2, 50)\n",
    "    ma_long_range = range(2, 50)\n",
    "    \n",
    "    # Initialize an empty list to store results\n",
    "    results = []\n",
    "\n",
    "    for long in ma_long_range:\n",
    "        for short in ma_short_range:\n",
    "            if short >= long:  # Ensure short MA is less than long MA\n",
    "                continue\n",
    "            \n",
    "            maby = moving_average_backtest_year(symbol, timeframe, year, short, long)\n",
    "            successful_trades = maby['Success']\n",
    "            total_trade = maby['Trades']\n",
    "            failed_trades = maby['Fail']\n",
    "            no_result_trades = maby['No Result']\n",
    "            amount_sum = maby['Pips Earn/Lost']\n",
    "            yr_win_rate = maby['Win Rate %']\n",
    "            \n",
    "            # Append the result as a dictionary\n",
    "            results.append({\n",
    "                \"Symbol\": symbol,\n",
    "                \"Year\": year,\n",
    "                \"Short MA\": short,\n",
    "                \"Long MA\": long,\n",
    "                \"Total Trades\": total_trade,\n",
    "                \"Successful Trades\": successful_trades,\n",
    "                \"Failed Trades\": failed_trades,\n",
    "                \"No Result Trades\": no_result_trades,\n",
    "                \"Amount Earned/Lost\": amount_sum,\n",
    "                \"Win Rate (%)\": yr_win_rate\n",
    "            })\n",
    "\n",
    "    # Convert the list of results to a DataFrame\n",
    "    results_df = pd.DataFrame(results)\n",
    "\n",
    "    # Sort the DataFrame by 'Win Rate (%)' and 'Pips Earned/Lost' in descending order\n",
    "    sorted_results_df = results_df.sort_values(\n",
    "        by=[\"Win Rate (%)\", \"Amount Earned/Lost\"],\n",
    "        ascending=[False, False]\n",
    "    )\n",
    "    \n",
    "    return sorted_results_df\n"
   ]
  },
  {
   "cell_type": "code",
   "execution_count": 44,
   "metadata": {},
   "outputs": [
    {
     "data": {
      "text/html": [
       "<div>\n",
       "<style scoped>\n",
       "    .dataframe tbody tr th:only-of-type {\n",
       "        vertical-align: middle;\n",
       "    }\n",
       "\n",
       "    .dataframe tbody tr th {\n",
       "        vertical-align: top;\n",
       "    }\n",
       "\n",
       "    .dataframe thead th {\n",
       "        text-align: right;\n",
       "    }\n",
       "</style>\n",
       "<table border=\"1\" class=\"dataframe\">\n",
       "  <thead>\n",
       "    <tr style=\"text-align: right;\">\n",
       "      <th></th>\n",
       "      <th>Symbol</th>\n",
       "      <th>Year</th>\n",
       "      <th>Short MA</th>\n",
       "      <th>Long MA</th>\n",
       "      <th>Total Trades</th>\n",
       "      <th>Successful Trades</th>\n",
       "      <th>Failed Trades</th>\n",
       "      <th>No Result Trades</th>\n",
       "      <th>Amount Earned/Lost</th>\n",
       "      <th>Win Rate (%)</th>\n",
       "    </tr>\n",
       "  </thead>\n",
       "  <tbody>\n",
       "    <tr>\n",
       "      <th>1052</th>\n",
       "      <td>EURUSDm</td>\n",
       "      <td>2024</td>\n",
       "      <td>19</td>\n",
       "      <td>48</td>\n",
       "      <td>29</td>\n",
       "      <td>15</td>\n",
       "      <td>14</td>\n",
       "      <td>0</td>\n",
       "      <td>32</td>\n",
       "      <td>52.0</td>\n",
       "    </tr>\n",
       "    <tr>\n",
       "      <th>1008</th>\n",
       "      <td>EURUSDm</td>\n",
       "      <td>2024</td>\n",
       "      <td>20</td>\n",
       "      <td>47</td>\n",
       "      <td>31</td>\n",
       "      <td>15</td>\n",
       "      <td>16</td>\n",
       "      <td>0</td>\n",
       "      <td>28</td>\n",
       "      <td>48.0</td>\n",
       "    </tr>\n",
       "    <tr>\n",
       "      <th>1097</th>\n",
       "      <td>EURUSDm</td>\n",
       "      <td>2024</td>\n",
       "      <td>18</td>\n",
       "      <td>49</td>\n",
       "      <td>29</td>\n",
       "      <td>14</td>\n",
       "      <td>15</td>\n",
       "      <td>0</td>\n",
       "      <td>26</td>\n",
       "      <td>48.0</td>\n",
       "    </tr>\n",
       "    <tr>\n",
       "      <th>921</th>\n",
       "      <td>EURUSDm</td>\n",
       "      <td>2024</td>\n",
       "      <td>20</td>\n",
       "      <td>45</td>\n",
       "      <td>34</td>\n",
       "      <td>15</td>\n",
       "      <td>19</td>\n",
       "      <td>0</td>\n",
       "      <td>22</td>\n",
       "      <td>44.0</td>\n",
       "    </tr>\n",
       "    <tr>\n",
       "      <th>1107</th>\n",
       "      <td>EURUSDm</td>\n",
       "      <td>2024</td>\n",
       "      <td>28</td>\n",
       "      <td>49</td>\n",
       "      <td>34</td>\n",
       "      <td>15</td>\n",
       "      <td>19</td>\n",
       "      <td>0</td>\n",
       "      <td>22</td>\n",
       "      <td>44.0</td>\n",
       "    </tr>\n",
       "    <tr>\n",
       "      <th>...</th>\n",
       "      <td>...</td>\n",
       "      <td>...</td>\n",
       "      <td>...</td>\n",
       "      <td>...</td>\n",
       "      <td>...</td>\n",
       "      <td>...</td>\n",
       "      <td>...</td>\n",
       "      <td>...</td>\n",
       "      <td>...</td>\n",
       "      <td>...</td>\n",
       "    </tr>\n",
       "    <tr>\n",
       "      <th>1121</th>\n",
       "      <td>EURUSDm</td>\n",
       "      <td>2024</td>\n",
       "      <td>42</td>\n",
       "      <td>49</td>\n",
       "      <td>46</td>\n",
       "      <td>7</td>\n",
       "      <td>39</td>\n",
       "      <td>0</td>\n",
       "      <td>-50</td>\n",
       "      <td>15.0</td>\n",
       "    </tr>\n",
       "    <tr>\n",
       "      <th>1076</th>\n",
       "      <td>EURUSDm</td>\n",
       "      <td>2024</td>\n",
       "      <td>43</td>\n",
       "      <td>48</td>\n",
       "      <td>54</td>\n",
       "      <td>8</td>\n",
       "      <td>46</td>\n",
       "      <td>0</td>\n",
       "      <td>-60</td>\n",
       "      <td>15.0</td>\n",
       "    </tr>\n",
       "    <tr>\n",
       "      <th>459</th>\n",
       "      <td>EURUSDm</td>\n",
       "      <td>2024</td>\n",
       "      <td>26</td>\n",
       "      <td>32</td>\n",
       "      <td>62</td>\n",
       "      <td>9</td>\n",
       "      <td>53</td>\n",
       "      <td>0</td>\n",
       "      <td>-70</td>\n",
       "      <td>15.0</td>\n",
       "    </tr>\n",
       "    <tr>\n",
       "      <th>496</th>\n",
       "      <td>EURUSDm</td>\n",
       "      <td>2024</td>\n",
       "      <td>2</td>\n",
       "      <td>34</td>\n",
       "      <td>93</td>\n",
       "      <td>14</td>\n",
       "      <td>79</td>\n",
       "      <td>0</td>\n",
       "      <td>-102</td>\n",
       "      <td>15.0</td>\n",
       "    </tr>\n",
       "    <tr>\n",
       "      <th>1075</th>\n",
       "      <td>EURUSDm</td>\n",
       "      <td>2024</td>\n",
       "      <td>42</td>\n",
       "      <td>48</td>\n",
       "      <td>50</td>\n",
       "      <td>6</td>\n",
       "      <td>44</td>\n",
       "      <td>0</td>\n",
       "      <td>-64</td>\n",
       "      <td>12.0</td>\n",
       "    </tr>\n",
       "  </tbody>\n",
       "</table>\n",
       "<p>1128 rows × 10 columns</p>\n",
       "</div>"
      ],
      "text/plain": [
       "       Symbol  Year  Short MA  Long MA  Total Trades  Successful Trades  \\\n",
       "1052  EURUSDm  2024        19       48            29                 15   \n",
       "1008  EURUSDm  2024        20       47            31                 15   \n",
       "1097  EURUSDm  2024        18       49            29                 14   \n",
       "921   EURUSDm  2024        20       45            34                 15   \n",
       "1107  EURUSDm  2024        28       49            34                 15   \n",
       "...       ...   ...       ...      ...           ...                ...   \n",
       "1121  EURUSDm  2024        42       49            46                  7   \n",
       "1076  EURUSDm  2024        43       48            54                  8   \n",
       "459   EURUSDm  2024        26       32            62                  9   \n",
       "496   EURUSDm  2024         2       34            93                 14   \n",
       "1075  EURUSDm  2024        42       48            50                  6   \n",
       "\n",
       "      Failed Trades  No Result Trades  Amount Earned/Lost  Win Rate (%)  \n",
       "1052             14                 0                  32          52.0  \n",
       "1008             16                 0                  28          48.0  \n",
       "1097             15                 0                  26          48.0  \n",
       "921              19                 0                  22          44.0  \n",
       "1107             19                 0                  22          44.0  \n",
       "...             ...               ...                 ...           ...  \n",
       "1121             39                 0                 -50          15.0  \n",
       "1076             46                 0                 -60          15.0  \n",
       "459              53                 0                 -70          15.0  \n",
       "496              79                 0                -102          15.0  \n",
       "1075             44                 0                 -64          12.0  \n",
       "\n",
       "[1128 rows x 10 columns]"
      ]
     },
     "execution_count": 44,
     "metadata": {},
     "output_type": "execute_result"
    }
   ],
   "source": [
    "symbol = \"EURUSDm\"\n",
    "timeframe = mt5.TIMEFRAME_H4\n",
    "bma_2024= best_moving_averages(symbol, timeframe, 2024)\n",
    "bma_2024"
   ]
  },
  {
   "cell_type": "code",
   "execution_count": 29,
   "metadata": {},
   "outputs": [
    {
     "data": {
      "text/html": [
       "<div>\n",
       "<style scoped>\n",
       "    .dataframe tbody tr th:only-of-type {\n",
       "        vertical-align: middle;\n",
       "    }\n",
       "\n",
       "    .dataframe tbody tr th {\n",
       "        vertical-align: top;\n",
       "    }\n",
       "\n",
       "    .dataframe thead th {\n",
       "        text-align: right;\n",
       "    }\n",
       "</style>\n",
       "<table border=\"1\" class=\"dataframe\">\n",
       "  <thead>\n",
       "    <tr style=\"text-align: right;\">\n",
       "      <th></th>\n",
       "      <th>Month</th>\n",
       "      <th>Trades</th>\n",
       "      <th>Buy</th>\n",
       "      <th>Sell</th>\n",
       "      <th>Success</th>\n",
       "      <th>Fail</th>\n",
       "      <th>No_Result</th>\n",
       "      <th>Pips_Earned_Lost</th>\n",
       "    </tr>\n",
       "  </thead>\n",
       "  <tbody>\n",
       "    <tr>\n",
       "      <th>0</th>\n",
       "      <td>January</td>\n",
       "      <td>54</td>\n",
       "      <td>27</td>\n",
       "      <td>27</td>\n",
       "      <td>15</td>\n",
       "      <td>39</td>\n",
       "      <td>0</td>\n",
       "      <td>-18</td>\n",
       "    </tr>\n",
       "    <tr>\n",
       "      <th>1</th>\n",
       "      <td>February</td>\n",
       "      <td>52</td>\n",
       "      <td>26</td>\n",
       "      <td>26</td>\n",
       "      <td>14</td>\n",
       "      <td>38</td>\n",
       "      <td>0</td>\n",
       "      <td>-20</td>\n",
       "    </tr>\n",
       "    <tr>\n",
       "      <th>2</th>\n",
       "      <td>March</td>\n",
       "      <td>44</td>\n",
       "      <td>22</td>\n",
       "      <td>22</td>\n",
       "      <td>12</td>\n",
       "      <td>32</td>\n",
       "      <td>0</td>\n",
       "      <td>-16</td>\n",
       "    </tr>\n",
       "    <tr>\n",
       "      <th>3</th>\n",
       "      <td>April</td>\n",
       "      <td>54</td>\n",
       "      <td>27</td>\n",
       "      <td>27</td>\n",
       "      <td>16</td>\n",
       "      <td>38</td>\n",
       "      <td>0</td>\n",
       "      <td>-12</td>\n",
       "    </tr>\n",
       "    <tr>\n",
       "      <th>4</th>\n",
       "      <td>May</td>\n",
       "      <td>57</td>\n",
       "      <td>29</td>\n",
       "      <td>28</td>\n",
       "      <td>21</td>\n",
       "      <td>36</td>\n",
       "      <td>0</td>\n",
       "      <td>12</td>\n",
       "    </tr>\n",
       "    <tr>\n",
       "      <th>5</th>\n",
       "      <td>June</td>\n",
       "      <td>50</td>\n",
       "      <td>25</td>\n",
       "      <td>25</td>\n",
       "      <td>20</td>\n",
       "      <td>30</td>\n",
       "      <td>0</td>\n",
       "      <td>20</td>\n",
       "    </tr>\n",
       "    <tr>\n",
       "      <th>6</th>\n",
       "      <td>July</td>\n",
       "      <td>51</td>\n",
       "      <td>25</td>\n",
       "      <td>26</td>\n",
       "      <td>14</td>\n",
       "      <td>37</td>\n",
       "      <td>0</td>\n",
       "      <td>-18</td>\n",
       "    </tr>\n",
       "    <tr>\n",
       "      <th>7</th>\n",
       "      <td>August</td>\n",
       "      <td>54</td>\n",
       "      <td>27</td>\n",
       "      <td>27</td>\n",
       "      <td>19</td>\n",
       "      <td>35</td>\n",
       "      <td>0</td>\n",
       "      <td>6</td>\n",
       "    </tr>\n",
       "    <tr>\n",
       "      <th>8</th>\n",
       "      <td>September</td>\n",
       "      <td>64</td>\n",
       "      <td>32</td>\n",
       "      <td>32</td>\n",
       "      <td>20</td>\n",
       "      <td>44</td>\n",
       "      <td>0</td>\n",
       "      <td>-8</td>\n",
       "    </tr>\n",
       "    <tr>\n",
       "      <th>9</th>\n",
       "      <td>October</td>\n",
       "      <td>59</td>\n",
       "      <td>30</td>\n",
       "      <td>29</td>\n",
       "      <td>19</td>\n",
       "      <td>40</td>\n",
       "      <td>0</td>\n",
       "      <td>-4</td>\n",
       "    </tr>\n",
       "    <tr>\n",
       "      <th>10</th>\n",
       "      <td>November</td>\n",
       "      <td>44</td>\n",
       "      <td>22</td>\n",
       "      <td>22</td>\n",
       "      <td>17</td>\n",
       "      <td>27</td>\n",
       "      <td>0</td>\n",
       "      <td>14</td>\n",
       "    </tr>\n",
       "    <tr>\n",
       "      <th>11</th>\n",
       "      <td>December</td>\n",
       "      <td>38</td>\n",
       "      <td>19</td>\n",
       "      <td>19</td>\n",
       "      <td>11</td>\n",
       "      <td>27</td>\n",
       "      <td>0</td>\n",
       "      <td>-10</td>\n",
       "    </tr>\n",
       "  </tbody>\n",
       "</table>\n",
       "</div>"
      ],
      "text/plain": [
       "        Month  Trades  Buy  Sell  Success  Fail  No_Result Pips_Earned_Lost\n",
       "0     January      54   27    27       15    39          0              -18\n",
       "1    February      52   26    26       14    38          0              -20\n",
       "2       March      44   22    22       12    32          0              -16\n",
       "3       April      54   27    27       16    38          0              -12\n",
       "4         May      57   29    28       21    36          0               12\n",
       "5        June      50   25    25       20    30          0               20\n",
       "6        July      51   25    26       14    37          0              -18\n",
       "7      August      54   27    27       19    35          0                6\n",
       "8   September      64   32    32       20    44          0               -8\n",
       "9     October      59   30    29       19    40          0               -4\n",
       "10   November      44   22    22       17    27          0               14\n",
       "11   December      38   19    19       11    27          0              -10"
      ]
     },
     "execution_count": 29,
     "metadata": {},
     "output_type": "execute_result"
    }
   ],
   "source": [
    "symbol = \"EURUSDm\"\n",
    "timeframe = mt5.TIMEFRAME_M10\n",
    "year = 2024\n",
    "mab= moving_average_backtest_year_month(symbol, timeframe, year, 49, 71)\n",
    "mab"
   ]
  },
  {
   "cell_type": "markdown",
   "metadata": {},
   "source": [
    "__Info__\n",
    "- Now we need to find the moving average pairs with the best average win rate (%) across the years"
   ]
  },
  {
   "cell_type": "markdown",
   "metadata": {},
   "source": [
    "##### Testing different timeframes"
   ]
  },
  {
   "cell_type": "markdown",
   "metadata": {},
   "source": [
    "H2"
   ]
  },
  {
   "cell_type": "code",
   "execution_count": null,
   "metadata": {},
   "outputs": [],
   "source": [
    "symbol = \"EURUSDm\"\n",
    "timeframe = mt5.TIMEFRAME_H2\n",
    "\n",
    "# List of years to process\n",
    "years = range(2019, 2025)\n",
    "\n",
    "# Initialize an empty list to store results for each year\n",
    "results = []\n",
    "\n",
    "# Track progress with tqdm\n",
    "for year in tqdm(years, desc=\"Processing Years\", unit=\"year\"):\n",
    "    result = best_moving_averages(symbol, timeframe, year)\n",
    "    results.append(result)\n",
    "\n",
    "# Combine all dataframes into one\n",
    "combined_results = pd.concat(results)\n",
    "\n",
    "# Group by 'Short MA' and 'Long MA' and calculate the average win rate and total trades\n",
    "average_win_rates = combined_results.groupby(['Short MA', 'Long MA']).agg(\n",
    "    {'Win Rate (%)': 'mean', 'Total Trades': 'mean', \"Failed Trades\": 'mean', \"Pips Earned/Lost\": 'mean'}\n",
    ").reset_index()\n",
    "\n",
    "# Rename columns for clarity if needed\n",
    "average_win_rates.rename(columns={\n",
    "    'Win Rate (%)': 'Avg Yearly Win Rate (%)',\n",
    "    'Total Trades': 'Avg Yearly Total Trades',\n",
    "    \"Failed Trades\": 'Avg Yearly Failed Trades',\n",
    "    \"Pips Earned/Lost\": \"Average Pips Earned/Lost\"\n",
    "}, inplace=True)\n",
    "\n",
    "# Sort by 'Average Win Rate (%)' in descending order\n",
    "best_pairs_h2 = average_win_rates.sort_values(by='Avg Yearly Win Rate (%)', ascending=False)\n",
    "\n",
    "# Convert all columns in the dataframe to integers\n",
    "best_pairs_h2 = best_pairs_h2.astype(int)\n",
    "\n",
    "best_pairs_h2.head()\n"
   ]
  },
  {
   "cell_type": "markdown",
   "metadata": {},
   "source": [
    "For H1"
   ]
  },
  {
   "cell_type": "code",
   "execution_count": 11,
   "metadata": {},
   "outputs": [
    {
     "name": "stderr",
     "output_type": "stream",
     "text": [
      "Processing Years: 100%|██████████| 11/11 [1:20:39<00:00, 439.94s/year]\n"
     ]
    },
    {
     "data": {
      "text/html": [
       "<div>\n",
       "<style scoped>\n",
       "    .dataframe tbody tr th:only-of-type {\n",
       "        vertical-align: middle;\n",
       "    }\n",
       "\n",
       "    .dataframe tbody tr th {\n",
       "        vertical-align: top;\n",
       "    }\n",
       "\n",
       "    .dataframe thead th {\n",
       "        text-align: right;\n",
       "    }\n",
       "</style>\n",
       "<table border=\"1\" class=\"dataframe\">\n",
       "  <thead>\n",
       "    <tr style=\"text-align: right;\">\n",
       "      <th></th>\n",
       "      <th>Short MA</th>\n",
       "      <th>Long MA</th>\n",
       "      <th>Avg Yearly Win Rate (%)</th>\n",
       "      <th>Avg Yearly Total Trades</th>\n",
       "      <th>Avg Yearly Failed Trades</th>\n",
       "      <th>Average Pips Earned/Lost</th>\n",
       "    </tr>\n",
       "  </thead>\n",
       "  <tbody>\n",
       "    <tr>\n",
       "      <th>803</th>\n",
       "      <td>24</td>\n",
       "      <td>25</td>\n",
       "      <td>62</td>\n",
       "      <td>425</td>\n",
       "      <td>218</td>\n",
       "      <td>819</td>\n",
       "    </tr>\n",
       "    <tr>\n",
       "      <th>723</th>\n",
       "      <td>21</td>\n",
       "      <td>23</td>\n",
       "      <td>60</td>\n",
       "      <td>331</td>\n",
       "      <td>177</td>\n",
       "      <td>593</td>\n",
       "    </tr>\n",
       "    <tr>\n",
       "      <th>663</th>\n",
       "      <td>19</td>\n",
       "      <td>20</td>\n",
       "      <td>59</td>\n",
       "      <td>499</td>\n",
       "      <td>270</td>\n",
       "      <td>873</td>\n",
       "    </tr>\n",
       "    <tr>\n",
       "      <th>664</th>\n",
       "      <td>19</td>\n",
       "      <td>21</td>\n",
       "      <td>59</td>\n",
       "      <td>350</td>\n",
       "      <td>191</td>\n",
       "      <td>604</td>\n",
       "    </tr>\n",
       "    <tr>\n",
       "      <th>750</th>\n",
       "      <td>22</td>\n",
       "      <td>23</td>\n",
       "      <td>59</td>\n",
       "      <td>448</td>\n",
       "      <td>236</td>\n",
       "      <td>824</td>\n",
       "    </tr>\n",
       "  </tbody>\n",
       "</table>\n",
       "</div>"
      ],
      "text/plain": [
       "     Short MA  Long MA  Avg Yearly Win Rate (%)  Avg Yearly Total Trades  \\\n",
       "803        24       25                       62                      425   \n",
       "723        21       23                       60                      331   \n",
       "663        19       20                       59                      499   \n",
       "664        19       21                       59                      350   \n",
       "750        22       23                       59                      448   \n",
       "\n",
       "     Avg Yearly Failed Trades  Average Pips Earned/Lost  \n",
       "803                       218                       819  \n",
       "723                       177                       593  \n",
       "663                       270                       873  \n",
       "664                       191                       604  \n",
       "750                       236                       824  "
      ]
     },
     "execution_count": 11,
     "metadata": {},
     "output_type": "execute_result"
    }
   ],
   "source": [
    "symbol = \"EURUSDm\"\n",
    "timeframe = mt5.TIMEFRAME_H1\n",
    "\n",
    "# List of years to process\n",
    "years = range(2014, 2025)\n",
    "\n",
    "# Initialize an empty list to store results for each year\n",
    "results = []\n",
    "\n",
    "# Track progress with tqdm\n",
    "for year in tqdm(years, desc=\"Processing Years\", unit=\"year\"):\n",
    "    result = best_moving_averages(symbol, timeframe, year)\n",
    "    results.append(result)\n",
    "\n",
    "# Combine all dataframes into one\n",
    "combined_results = pd.concat(results)\n",
    "\n",
    "# Group by 'Short MA' and 'Long MA' and calculate the average win rate and total trades\n",
    "average_win_rates = combined_results.groupby(['Short MA', 'Long MA']).agg(\n",
    "    {'Win Rate (%)': 'mean', 'Total Trades': 'mean', \"Failed Trades\": 'mean', \"Pips Earned/Lost\": 'mean'}\n",
    ").reset_index()\n",
    "\n",
    "# Rename columns for clarity if needed\n",
    "average_win_rates.rename(columns={\n",
    "    'Win Rate (%)': 'Avg Yearly Win Rate (%)',\n",
    "    'Total Trades': 'Avg Yearly Total Trades',\n",
    "    \"Failed Trades\": 'Avg Yearly Failed Trades',\n",
    "    \"Pips Earned/Lost\": \"Average Pips Earned/Lost\"\n",
    "}, inplace=True)\n",
    "\n",
    "# Sort by 'Average Win Rate (%)' in descending order\n",
    "best_pairs_h1 = average_win_rates.sort_values(by='Avg Yearly Win Rate (%)', ascending=False)\n",
    "\n",
    "# Convert all columns in the dataframe to integers\n",
    "best_pairs_h1 = best_pairs_h1.astype(int)\n",
    "\n",
    "best_pairs_h1.head()\n"
   ]
  },
  {
   "cell_type": "markdown",
   "metadata": {},
   "source": [
    "__Info__\n",
    "- We have 252 trading days in a year (This basically removes weekends and certaion holidays)."
   ]
  },
  {
   "cell_type": "markdown",
   "metadata": {},
   "source": [
    "_Remember_\n",
    "- MT5 has a data retrieval limit of 50,000 records, starting from the current date and time. The amount of historical data you can access in terms of years depends on the timeframe you select. Shorter timeframes (e.g., 1-minute) will cover fewer years, while longer timeframes (e.g., 1-day) will cover more years within the 50,000-record limit.\n",
    "- I'm yet to find a way to bypass this restriction but for now here is the timeframes and data limits\n",
    "- _Also General data starts from_ ___Jan 2014___\n",
    "    - 1-minute (M1) ≈ 1.5 months\n",
    "    - 5-minute (M5) ≈ 8.7 months\n",
    "    - 15-minute (M15) ≈ 2.2 years\n",
    "    - 30-minute (M30) ≈ 4.4 years\n",
    "    - 1-hour (H1) ≈ 8.7 years\n",
    "    - 2-hour (H2) ≈ 17.4 years\n",
    "    - 4-hour (H4) ≈ 34.8 years\n",
    "    - 6-hour (H6) ≈ 52.2 years\n",
    "    - 8-hour (H8) ≈ 69.6 years\n",
    "    - 12-hour (H12) ≈ 103.7 years\n",
    "    - 1-day (D1) ≈ 136.9 years\n",
    "    - 1-week (W1) ≈ 961.5 years\n",
    "    - 1-month (MN) ≈ 4166.7 years\n"
   ]
  },
  {
   "cell_type": "markdown",
   "metadata": {},
   "source": [
    "##### Function for more data (optional)"
   ]
  },
  {
   "cell_type": "code",
   "execution_count": 42,
   "metadata": {},
   "outputs": [],
   "source": [
    "from datetime import datetime, timedelta\n",
    "\n",
    "def extract_data_by_day(symbol, timeframe, start_date, end_date):\n",
    "    \"\"\"\n",
    "    Extract historical data from MetaTrader 5 by iterating through each day\n",
    "    between start_date and end_date, appending data for each day.\n",
    "\n",
    "    Parameters:\n",
    "        symbol (str): The trading symbol (e.g., \"EURUSD\").\n",
    "        timeframe (int): The MetaTrader 5 timeframe constant (e.g., mt5.TIMEFRAME_M1).\n",
    "        start_date (datetime): The start date for data extraction.\n",
    "        end_date (datetime): The end date for data extraction.\n",
    "\n",
    "    Returns:\n",
    "        pd.DataFrame: A DataFrame containing the extracted data.\n",
    "    \"\"\"\n",
    "    all_data = []  # List to store data for each day\n",
    "\n",
    "    # Start the loop from start_date to end_date\n",
    "    current_date = start_date\n",
    "    while current_date <= end_date:\n",
    "        next_day = current_date + timedelta(days=1)  # Move to the next day\n",
    "        \n",
    "        # Fetch data for the current day\n",
    "        day_data = mt5.copy_rates_range(symbol, timeframe, current_date, next_day)\n",
    "        \n",
    "        if day_data is None or len(day_data) == 0:\n",
    "            pass\n",
    "        else:\n",
    "            # Append the data for the current day to the list\n",
    "            all_data.append(pd.DataFrame(day_data))\n",
    "        \n",
    "        # Move to the next day\n",
    "        current_date = next_day\n",
    "\n",
    "    # Combine all the data into a single DataFrame\n",
    "    if all_data:\n",
    "        final_data = pd.concat(all_data, ignore_index=True)\n",
    "        final_data['time'] = pd.to_datetime(final_data['time'], unit='s')\n",
    "        return final_data\n",
    "    else:\n",
    "        return pd.DataFrame()  # Return an empty DataFrame if no data was found\n",
    "\n"
   ]
  },
  {
   "cell_type": "markdown",
   "metadata": {},
   "source": [
    "yeah no data was found at certain timeframes at certain years"
   ]
  },
  {
   "cell_type": "code",
   "execution_count": 36,
   "metadata": {},
   "outputs": [
    {
     "data": {
      "text/html": [
       "<div>\n",
       "<style scoped>\n",
       "    .dataframe tbody tr th:only-of-type {\n",
       "        vertical-align: middle;\n",
       "    }\n",
       "\n",
       "    .dataframe tbody tr th {\n",
       "        vertical-align: top;\n",
       "    }\n",
       "\n",
       "    .dataframe thead th {\n",
       "        text-align: right;\n",
       "    }\n",
       "</style>\n",
       "<table border=\"1\" class=\"dataframe\">\n",
       "  <thead>\n",
       "    <tr style=\"text-align: right;\">\n",
       "      <th></th>\n",
       "      <th>time</th>\n",
       "      <th>open</th>\n",
       "      <th>high</th>\n",
       "      <th>low</th>\n",
       "      <th>close</th>\n",
       "      <th>tick_volume</th>\n",
       "      <th>spread</th>\n",
       "      <th>real_volume</th>\n",
       "    </tr>\n",
       "  </thead>\n",
       "  <tbody>\n",
       "    <tr>\n",
       "      <th>0</th>\n",
       "      <td>1647502800</td>\n",
       "      <td>1.1032</td>\n",
       "      <td>1.10395</td>\n",
       "      <td>1.10297</td>\n",
       "      <td>1.10386</td>\n",
       "      <td>265</td>\n",
       "      <td>8</td>\n",
       "      <td>0</td>\n",
       "    </tr>\n",
       "  </tbody>\n",
       "</table>\n",
       "</div>"
      ],
      "text/plain": [
       "         time    open     high      low    close  tick_volume  spread  \\\n",
       "0  1647502800  1.1032  1.10395  1.10297  1.10386          265       8   \n",
       "\n",
       "   real_volume  \n",
       "0            0  "
      ]
     },
     "execution_count": 36,
     "metadata": {},
     "output_type": "execute_result"
    }
   ],
   "source": [
    "# Define the timeframe and date range\n",
    "timeframe = mt5.TIMEFRAME_M10\n",
    "start_date = datetime(2021, 1, 1)\n",
    "end_date = datetime(2021, 2, 20)\n",
    "\n",
    "data = pd.DataFrame(mt5.copy_rates_range(\"EURUSDm\", timeframe, start_date, end_date))\n",
    "\n",
    "# data = extract_data_by_day(\"EURUSDm\", timeframe, start_date, end_date)\n",
    "data"
   ]
  },
  {
   "cell_type": "markdown",
   "metadata": {},
   "source": [
    "### Charts"
   ]
  },
  {
   "cell_type": "code",
   "execution_count": 175,
   "metadata": {},
   "outputs": [
    {
     "data": {
      "text/html": [
       "<div>\n",
       "<style scoped>\n",
       "    .dataframe tbody tr th:only-of-type {\n",
       "        vertical-align: middle;\n",
       "    }\n",
       "\n",
       "    .dataframe tbody tr th {\n",
       "        vertical-align: top;\n",
       "    }\n",
       "\n",
       "    .dataframe thead th {\n",
       "        text-align: right;\n",
       "    }\n",
       "</style>\n",
       "<table border=\"1\" class=\"dataframe\">\n",
       "  <thead>\n",
       "    <tr style=\"text-align: right;\">\n",
       "      <th></th>\n",
       "      <th>time</th>\n",
       "      <th>open</th>\n",
       "      <th>high</th>\n",
       "      <th>low</th>\n",
       "      <th>close</th>\n",
       "      <th>volume</th>\n",
       "      <th>spread</th>\n",
       "      <th>real_volume</th>\n",
       "      <th>MA_24</th>\n",
       "      <th>MA_25</th>\n",
       "      <th>Entry_Price</th>\n",
       "      <th>Take_Profit</th>\n",
       "      <th>Stop_Loss</th>\n",
       "      <th>Trade</th>\n",
       "      <th>Trade_Success</th>\n",
       "      <th>Pips</th>\n",
       "    </tr>\n",
       "  </thead>\n",
       "  <tbody>\n",
       "    <tr>\n",
       "      <th>0</th>\n",
       "      <td>2024-01-01 22:00:00</td>\n",
       "      <td>1.10268</td>\n",
       "      <td>1.10369</td>\n",
       "      <td>1.10268</td>\n",
       "      <td>1.10306</td>\n",
       "      <td>1195</td>\n",
       "      <td>127</td>\n",
       "      <td>0</td>\n",
       "      <td>NaN</td>\n",
       "      <td>NaN</td>\n",
       "      <td>None</td>\n",
       "      <td>None</td>\n",
       "      <td>None</td>\n",
       "      <td>None</td>\n",
       "      <td>None</td>\n",
       "      <td>None</td>\n",
       "    </tr>\n",
       "  </tbody>\n",
       "</table>\n",
       "</div>"
      ],
      "text/plain": [
       "                 time     open     high      low    close  volume  spread  \\\n",
       "0 2024-01-01 22:00:00  1.10268  1.10369  1.10268  1.10306    1195     127   \n",
       "\n",
       "   real_volume  MA_24  MA_25 Entry_Price Take_Profit Stop_Loss Trade  \\\n",
       "0            0    NaN    NaN        None        None      None  None   \n",
       "\n",
       "  Trade_Success  Pips  \n",
       "0          None  None  "
      ]
     },
     "execution_count": 175,
     "metadata": {},
     "output_type": "execute_result"
    }
   ],
   "source": [
    "data = mab[1]\n",
    "data.head(1)"
   ]
  },
  {
   "cell_type": "code",
   "execution_count": 176,
   "metadata": {},
   "outputs": [
    {
     "data": {
      "text/html": [
       "<div>\n",
       "<style scoped>\n",
       "    .dataframe tbody tr th:only-of-type {\n",
       "        vertical-align: middle;\n",
       "    }\n",
       "\n",
       "    .dataframe tbody tr th {\n",
       "        vertical-align: top;\n",
       "    }\n",
       "\n",
       "    .dataframe thead th {\n",
       "        text-align: right;\n",
       "    }\n",
       "</style>\n",
       "<table border=\"1\" class=\"dataframe\">\n",
       "  <thead>\n",
       "    <tr style=\"text-align: right;\">\n",
       "      <th></th>\n",
       "      <th></th>\n",
       "      <th>time</th>\n",
       "      <th>Entry_Price</th>\n",
       "      <th>Take_Profit</th>\n",
       "      <th>Stop_Loss</th>\n",
       "    </tr>\n",
       "    <tr>\n",
       "      <th>Trade</th>\n",
       "      <th>Trade_Success</th>\n",
       "      <th></th>\n",
       "      <th></th>\n",
       "      <th></th>\n",
       "      <th></th>\n",
       "    </tr>\n",
       "  </thead>\n",
       "  <tbody>\n",
       "    <tr>\n",
       "      <th rowspan=\"3\" valign=\"top\">Buy</th>\n",
       "      <th>Fail</th>\n",
       "      <td>88</td>\n",
       "      <td>88</td>\n",
       "      <td>88</td>\n",
       "      <td>88</td>\n",
       "    </tr>\n",
       "    <tr>\n",
       "      <th>No Result</th>\n",
       "      <td>1</td>\n",
       "      <td>1</td>\n",
       "      <td>1</td>\n",
       "      <td>1</td>\n",
       "    </tr>\n",
       "    <tr>\n",
       "      <th>Success</th>\n",
       "      <td>67</td>\n",
       "      <td>67</td>\n",
       "      <td>67</td>\n",
       "      <td>67</td>\n",
       "    </tr>\n",
       "    <tr>\n",
       "      <th rowspan=\"2\" valign=\"top\">Sell</th>\n",
       "      <th>Fail</th>\n",
       "      <td>81</td>\n",
       "      <td>81</td>\n",
       "      <td>81</td>\n",
       "      <td>81</td>\n",
       "    </tr>\n",
       "    <tr>\n",
       "      <th>Success</th>\n",
       "      <td>74</td>\n",
       "      <td>74</td>\n",
       "      <td>74</td>\n",
       "      <td>74</td>\n",
       "    </tr>\n",
       "  </tbody>\n",
       "</table>\n",
       "</div>"
      ],
      "text/plain": [
       "                     time  Entry_Price  Take_Profit  Stop_Loss\n",
       "Trade Trade_Success                                           \n",
       "Buy   Fail             88           88           88         88\n",
       "      No Result         1            1            1          1\n",
       "      Success          67           67           67         67\n",
       "Sell  Fail             81           81           81         81\n",
       "      Success          74           74           74         74"
      ]
     },
     "execution_count": 176,
     "metadata": {},
     "output_type": "execute_result"
    }
   ],
   "source": [
    "view_trades= mab[1][['time','Trade','Trade_Success','Entry_Price','Take_Profit','Stop_Loss']]\n",
    "view_trades.groupby(by=['Trade','Trade_Success']).count()"
   ]
  },
  {
   "cell_type": "code",
   "execution_count": 177,
   "metadata": {},
   "outputs": [
    {
     "data": {
      "text/html": [
       "<div>\n",
       "<style scoped>\n",
       "    .dataframe tbody tr th:only-of-type {\n",
       "        vertical-align: middle;\n",
       "    }\n",
       "\n",
       "    .dataframe tbody tr th {\n",
       "        vertical-align: top;\n",
       "    }\n",
       "\n",
       "    .dataframe thead th {\n",
       "        text-align: right;\n",
       "    }\n",
       "</style>\n",
       "<table border=\"1\" class=\"dataframe\">\n",
       "  <thead>\n",
       "    <tr style=\"text-align: right;\">\n",
       "      <th></th>\n",
       "      <th>time</th>\n",
       "      <th>Trade</th>\n",
       "      <th>Trade_Success</th>\n",
       "      <th>Entry_Price</th>\n",
       "      <th>Take_Profit</th>\n",
       "      <th>Stop_Loss</th>\n",
       "    </tr>\n",
       "  </thead>\n",
       "  <tbody>\n",
       "    <tr>\n",
       "      <th>3079</th>\n",
       "      <td>2024-12-20 18:00:00</td>\n",
       "      <td>Buy</td>\n",
       "      <td>No Result</td>\n",
       "      <td>1.04452</td>\n",
       "      <td>1.04952</td>\n",
       "      <td>1.03952</td>\n",
       "    </tr>\n",
       "  </tbody>\n",
       "</table>\n",
       "</div>"
      ],
      "text/plain": [
       "                    time Trade Trade_Success Entry_Price Take_Profit Stop_Loss\n",
       "3079 2024-12-20 18:00:00   Buy     No Result     1.04452     1.04952   1.03952"
      ]
     },
     "execution_count": 177,
     "metadata": {},
     "output_type": "execute_result"
    }
   ],
   "source": [
    "view_trades[view_trades['Trade_Success']=='No Result']"
   ]
  },
  {
   "cell_type": "code",
   "execution_count": 160,
   "metadata": {},
   "outputs": [
    {
     "data": {
      "application/vnd.plotly.v1+json": {
       "config": {
        "plotlyServerURL": "https://plot.ly"
       },
       "data": [
        {
         "close": [
          1.08191,
          1.08437,
          1.08743,
          1.08718,
          1.08634,
          1.08629,
          1.08578,
          1.08544,
          1.08409,
          1.08436,
          1.08446,
          1.08396,
          1.08369,
          1.0824799999999999,
          1.08227,
          1.08199,
          1.07972,
          1.08111,
          1.08183,
          1.08322,
          1.08331,
          1.08343,
          1.08303,
          1.08218,
          1.08222,
          1.08263,
          1.08415,
          1.08342,
          1.08363,
          1.08385,
          1.08456,
          1.08442,
          1.08425,
          1.0831
         ],
         "high": [
          1.08424,
          1.08503,
          1.08755,
          1.08855,
          1.08798,
          1.08698,
          1.08656,
          1.08617,
          1.08471,
          1.08484,
          1.08461,
          1.08471,
          1.08496,
          1.08414,
          1.08266,
          1.08362,
          1.08222,
          1.08156,
          1.08194,
          1.084,
          1.08361,
          1.08417,
          1.08356,
          1.08331,
          1.08256,
          1.08317,
          1.08475,
          1.08493,
          1.08568,
          1.08467,
          1.08465,
          1.08481,
          1.08446,
          1.08476
         ],
         "low": [
          1.08123,
          1.08167,
          1.08437,
          1.08559,
          1.08548,
          1.08585,
          1.08536,
          1.08518,
          1.08375,
          1.08408,
          1.08388,
          1.08392,
          1.08345,
          1.08227,
          1.08135,
          1.08132,
          1.07955,
          1.07954,
          1.08088,
          1.08185,
          1.08262,
          1.08321,
          1.08295,
          1.08215,
          1.08115,
          1.08158,
          1.08224,
          1.08336,
          1.08275,
          1.08339,
          1.08312,
          1.08403,
          1.08353,
          1.0831
         ],
         "name": "Candlestick",
         "open": [
          1.08419,
          1.08189,
          1.08437,
          1.08743,
          1.08715,
          1.08633,
          1.08632,
          1.08581,
          1.08399,
          1.08421,
          1.08437,
          1.08446,
          1.08396,
          1.08369,
          1.0824799999999999,
          1.08227,
          1.082,
          1.07969,
          1.08112,
          1.08185,
          1.08323,
          1.08333,
          1.08343,
          1.08303,
          1.08221,
          1.08232,
          1.08262,
          1.08412,
          1.0834,
          1.08363,
          1.08384,
          1.08456,
          1.08446,
          1.08424
         ],
         "type": "candlestick",
         "x": [
          "2024-01-26T06:00:00",
          "2024-01-26T08:00:00",
          "2024-01-26T10:00:00",
          "2024-01-26T12:00:00",
          "2024-01-26T14:00:00",
          "2024-01-26T16:00:00",
          "2024-01-26T18:00:00",
          "2024-01-26T20:00:00",
          "2024-01-28T22:00:00",
          "2024-01-29T00:00:00",
          "2024-01-29T02:00:00",
          "2024-01-29T04:00:00",
          "2024-01-29T06:00:00",
          "2024-01-29T08:00:00",
          "2024-01-29T10:00:00",
          "2024-01-29T12:00:00",
          "2024-01-29T14:00:00",
          "2024-01-29T16:00:00",
          "2024-01-29T18:00:00",
          "2024-01-29T20:00:00",
          "2024-01-29T22:00:00",
          "2024-01-30T00:00:00",
          "2024-01-30T02:00:00",
          "2024-01-30T04:00:00",
          "2024-01-30T06:00:00",
          "2024-01-30T08:00:00",
          "2024-01-30T10:00:00",
          "2024-01-30T12:00:00",
          "2024-01-30T14:00:00",
          "2024-01-30T16:00:00",
          "2024-01-30T18:00:00",
          "2024-01-30T20:00:00",
          "2024-01-30T22:00:00",
          "2024-01-31T00:00:00"
         ]
        },
        {
         "line": {
          "color": "blue",
          "width": 1
         },
         "mode": "lines",
         "name": "MA_16",
         "type": "scatter",
         "x": [
          "2024-01-26T06:00:00",
          "2024-01-26T08:00:00",
          "2024-01-26T10:00:00",
          "2024-01-26T12:00:00",
          "2024-01-26T14:00:00",
          "2024-01-26T16:00:00",
          "2024-01-26T18:00:00",
          "2024-01-26T20:00:00",
          "2024-01-28T22:00:00",
          "2024-01-29T00:00:00",
          "2024-01-29T02:00:00",
          "2024-01-29T04:00:00",
          "2024-01-29T06:00:00",
          "2024-01-29T08:00:00",
          "2024-01-29T10:00:00",
          "2024-01-29T12:00:00",
          "2024-01-29T14:00:00",
          "2024-01-29T16:00:00",
          "2024-01-29T18:00:00",
          "2024-01-29T20:00:00",
          "2024-01-29T22:00:00",
          "2024-01-30T00:00:00",
          "2024-01-30T02:00:00",
          "2024-01-30T04:00:00",
          "2024-01-30T06:00:00",
          "2024-01-30T08:00:00",
          "2024-01-30T10:00:00",
          "2024-01-30T12:00:00",
          "2024-01-30T14:00:00",
          "2024-01-30T16:00:00",
          "2024-01-30T18:00:00",
          "2024-01-30T20:00:00",
          "2024-01-30T22:00:00",
          "2024-01-31T00:00:00"
         ],
         "y": [
          1.0871095833333342,
          1.086866250000001,
          1.0867908333333343,
          1.0865720833333343,
          1.086418750000001,
          1.0862441666666678,
          1.0861191666666679,
          1.0859970833333343,
          1.0858291666666677,
          1.0856895833333342,
          1.0855520833333343,
          1.0853933333333343,
          1.0851833333333345,
          1.0848900000000012,
          1.0845920833333345,
          1.0843470833333346,
          1.0842045833333345,
          1.084096250000001,
          1.0840254166666679,
          1.0839775000000011,
          1.0839270833333345,
          1.0838870833333345,
          1.083827916666668,
          1.0837445833333346,
          1.0837575000000013,
          1.0836850000000011,
          1.0835483333333344,
          1.0833916666666679,
          1.0832787500000012,
          1.0831770833333343,
          1.083126250000001,
          1.0830837500000012,
          1.083090416666668,
          1.083037916666668
         ]
        },
        {
         "line": {
          "color": "red",
          "width": 1
         },
         "mode": "lines",
         "name": "MA_50",
         "type": "scatter",
         "x": [
          "2024-01-26T06:00:00",
          "2024-01-26T08:00:00",
          "2024-01-26T10:00:00",
          "2024-01-26T12:00:00",
          "2024-01-26T14:00:00",
          "2024-01-26T16:00:00",
          "2024-01-26T18:00:00",
          "2024-01-26T20:00:00",
          "2024-01-28T22:00:00",
          "2024-01-29T00:00:00",
          "2024-01-29T02:00:00",
          "2024-01-29T04:00:00",
          "2024-01-29T06:00:00",
          "2024-01-29T08:00:00",
          "2024-01-29T10:00:00",
          "2024-01-29T12:00:00",
          "2024-01-29T14:00:00",
          "2024-01-29T16:00:00",
          "2024-01-29T18:00:00",
          "2024-01-29T20:00:00",
          "2024-01-29T22:00:00",
          "2024-01-30T00:00:00",
          "2024-01-30T02:00:00",
          "2024-01-30T04:00:00",
          "2024-01-30T06:00:00",
          "2024-01-30T08:00:00",
          "2024-01-30T10:00:00",
          "2024-01-30T12:00:00",
          "2024-01-30T14:00:00",
          "2024-01-30T16:00:00",
          "2024-01-30T18:00:00",
          "2024-01-30T20:00:00",
          "2024-01-30T22:00:00",
          "2024-01-31T00:00:00"
         ],
         "y": [
          1.0871172000000007,
          1.0870000000000006,
          1.0868888000000008,
          1.0868064000000006,
          1.0865628000000007,
          1.0864136000000009,
          1.0862256000000008,
          1.0860920000000007,
          1.0859208000000007,
          1.0857704000000006,
          1.0856404000000006,
          1.0854884000000007,
          1.0853252000000007,
          1.0850752000000008,
          1.0847852000000007,
          1.0844880000000008,
          1.084162000000001,
          1.0840808000000008,
          1.084005600000001,
          1.083993200000001,
          1.0839508000000009,
          1.083907200000001,
          1.083852800000001,
          1.083762000000001,
          1.083683600000001,
          1.083712400000001,
          1.0837036000000009,
          1.083543200000001,
          1.0834012000000008,
          1.0833016000000009,
          1.0832324000000009,
          1.083178000000001,
          1.083130400000001,
          1.083090800000001
         ]
        }
       ],
       "layout": {
        "template": {
         "data": {
          "bar": [
           {
            "error_x": {
             "color": "#f2f5fa"
            },
            "error_y": {
             "color": "#f2f5fa"
            },
            "marker": {
             "line": {
              "color": "rgb(17,17,17)",
              "width": 0.5
             },
             "pattern": {
              "fillmode": "overlay",
              "size": 10,
              "solidity": 0.2
             }
            },
            "type": "bar"
           }
          ],
          "barpolar": [
           {
            "marker": {
             "line": {
              "color": "rgb(17,17,17)",
              "width": 0.5
             },
             "pattern": {
              "fillmode": "overlay",
              "size": 10,
              "solidity": 0.2
             }
            },
            "type": "barpolar"
           }
          ],
          "carpet": [
           {
            "aaxis": {
             "endlinecolor": "#A2B1C6",
             "gridcolor": "#506784",
             "linecolor": "#506784",
             "minorgridcolor": "#506784",
             "startlinecolor": "#A2B1C6"
            },
            "baxis": {
             "endlinecolor": "#A2B1C6",
             "gridcolor": "#506784",
             "linecolor": "#506784",
             "minorgridcolor": "#506784",
             "startlinecolor": "#A2B1C6"
            },
            "type": "carpet"
           }
          ],
          "choropleth": [
           {
            "colorbar": {
             "outlinewidth": 0,
             "ticks": ""
            },
            "type": "choropleth"
           }
          ],
          "contour": [
           {
            "colorbar": {
             "outlinewidth": 0,
             "ticks": ""
            },
            "colorscale": [
             [
              0,
              "#0d0887"
             ],
             [
              0.1111111111111111,
              "#46039f"
             ],
             [
              0.2222222222222222,
              "#7201a8"
             ],
             [
              0.3333333333333333,
              "#9c179e"
             ],
             [
              0.4444444444444444,
              "#bd3786"
             ],
             [
              0.5555555555555556,
              "#d8576b"
             ],
             [
              0.6666666666666666,
              "#ed7953"
             ],
             [
              0.7777777777777778,
              "#fb9f3a"
             ],
             [
              0.8888888888888888,
              "#fdca26"
             ],
             [
              1,
              "#f0f921"
             ]
            ],
            "type": "contour"
           }
          ],
          "contourcarpet": [
           {
            "colorbar": {
             "outlinewidth": 0,
             "ticks": ""
            },
            "type": "contourcarpet"
           }
          ],
          "heatmap": [
           {
            "colorbar": {
             "outlinewidth": 0,
             "ticks": ""
            },
            "colorscale": [
             [
              0,
              "#0d0887"
             ],
             [
              0.1111111111111111,
              "#46039f"
             ],
             [
              0.2222222222222222,
              "#7201a8"
             ],
             [
              0.3333333333333333,
              "#9c179e"
             ],
             [
              0.4444444444444444,
              "#bd3786"
             ],
             [
              0.5555555555555556,
              "#d8576b"
             ],
             [
              0.6666666666666666,
              "#ed7953"
             ],
             [
              0.7777777777777778,
              "#fb9f3a"
             ],
             [
              0.8888888888888888,
              "#fdca26"
             ],
             [
              1,
              "#f0f921"
             ]
            ],
            "type": "heatmap"
           }
          ],
          "heatmapgl": [
           {
            "colorbar": {
             "outlinewidth": 0,
             "ticks": ""
            },
            "colorscale": [
             [
              0,
              "#0d0887"
             ],
             [
              0.1111111111111111,
              "#46039f"
             ],
             [
              0.2222222222222222,
              "#7201a8"
             ],
             [
              0.3333333333333333,
              "#9c179e"
             ],
             [
              0.4444444444444444,
              "#bd3786"
             ],
             [
              0.5555555555555556,
              "#d8576b"
             ],
             [
              0.6666666666666666,
              "#ed7953"
             ],
             [
              0.7777777777777778,
              "#fb9f3a"
             ],
             [
              0.8888888888888888,
              "#fdca26"
             ],
             [
              1,
              "#f0f921"
             ]
            ],
            "type": "heatmapgl"
           }
          ],
          "histogram": [
           {
            "marker": {
             "pattern": {
              "fillmode": "overlay",
              "size": 10,
              "solidity": 0.2
             }
            },
            "type": "histogram"
           }
          ],
          "histogram2d": [
           {
            "colorbar": {
             "outlinewidth": 0,
             "ticks": ""
            },
            "colorscale": [
             [
              0,
              "#0d0887"
             ],
             [
              0.1111111111111111,
              "#46039f"
             ],
             [
              0.2222222222222222,
              "#7201a8"
             ],
             [
              0.3333333333333333,
              "#9c179e"
             ],
             [
              0.4444444444444444,
              "#bd3786"
             ],
             [
              0.5555555555555556,
              "#d8576b"
             ],
             [
              0.6666666666666666,
              "#ed7953"
             ],
             [
              0.7777777777777778,
              "#fb9f3a"
             ],
             [
              0.8888888888888888,
              "#fdca26"
             ],
             [
              1,
              "#f0f921"
             ]
            ],
            "type": "histogram2d"
           }
          ],
          "histogram2dcontour": [
           {
            "colorbar": {
             "outlinewidth": 0,
             "ticks": ""
            },
            "colorscale": [
             [
              0,
              "#0d0887"
             ],
             [
              0.1111111111111111,
              "#46039f"
             ],
             [
              0.2222222222222222,
              "#7201a8"
             ],
             [
              0.3333333333333333,
              "#9c179e"
             ],
             [
              0.4444444444444444,
              "#bd3786"
             ],
             [
              0.5555555555555556,
              "#d8576b"
             ],
             [
              0.6666666666666666,
              "#ed7953"
             ],
             [
              0.7777777777777778,
              "#fb9f3a"
             ],
             [
              0.8888888888888888,
              "#fdca26"
             ],
             [
              1,
              "#f0f921"
             ]
            ],
            "type": "histogram2dcontour"
           }
          ],
          "mesh3d": [
           {
            "colorbar": {
             "outlinewidth": 0,
             "ticks": ""
            },
            "type": "mesh3d"
           }
          ],
          "parcoords": [
           {
            "line": {
             "colorbar": {
              "outlinewidth": 0,
              "ticks": ""
             }
            },
            "type": "parcoords"
           }
          ],
          "pie": [
           {
            "automargin": true,
            "type": "pie"
           }
          ],
          "scatter": [
           {
            "marker": {
             "line": {
              "color": "#283442"
             }
            },
            "type": "scatter"
           }
          ],
          "scatter3d": [
           {
            "line": {
             "colorbar": {
              "outlinewidth": 0,
              "ticks": ""
             }
            },
            "marker": {
             "colorbar": {
              "outlinewidth": 0,
              "ticks": ""
             }
            },
            "type": "scatter3d"
           }
          ],
          "scattercarpet": [
           {
            "marker": {
             "colorbar": {
              "outlinewidth": 0,
              "ticks": ""
             }
            },
            "type": "scattercarpet"
           }
          ],
          "scattergeo": [
           {
            "marker": {
             "colorbar": {
              "outlinewidth": 0,
              "ticks": ""
             }
            },
            "type": "scattergeo"
           }
          ],
          "scattergl": [
           {
            "marker": {
             "line": {
              "color": "#283442"
             }
            },
            "type": "scattergl"
           }
          ],
          "scattermapbox": [
           {
            "marker": {
             "colorbar": {
              "outlinewidth": 0,
              "ticks": ""
             }
            },
            "type": "scattermapbox"
           }
          ],
          "scatterpolar": [
           {
            "marker": {
             "colorbar": {
              "outlinewidth": 0,
              "ticks": ""
             }
            },
            "type": "scatterpolar"
           }
          ],
          "scatterpolargl": [
           {
            "marker": {
             "colorbar": {
              "outlinewidth": 0,
              "ticks": ""
             }
            },
            "type": "scatterpolargl"
           }
          ],
          "scatterternary": [
           {
            "marker": {
             "colorbar": {
              "outlinewidth": 0,
              "ticks": ""
             }
            },
            "type": "scatterternary"
           }
          ],
          "surface": [
           {
            "colorbar": {
             "outlinewidth": 0,
             "ticks": ""
            },
            "colorscale": [
             [
              0,
              "#0d0887"
             ],
             [
              0.1111111111111111,
              "#46039f"
             ],
             [
              0.2222222222222222,
              "#7201a8"
             ],
             [
              0.3333333333333333,
              "#9c179e"
             ],
             [
              0.4444444444444444,
              "#bd3786"
             ],
             [
              0.5555555555555556,
              "#d8576b"
             ],
             [
              0.6666666666666666,
              "#ed7953"
             ],
             [
              0.7777777777777778,
              "#fb9f3a"
             ],
             [
              0.8888888888888888,
              "#fdca26"
             ],
             [
              1,
              "#f0f921"
             ]
            ],
            "type": "surface"
           }
          ],
          "table": [
           {
            "cells": {
             "fill": {
              "color": "#506784"
             },
             "line": {
              "color": "rgb(17,17,17)"
             }
            },
            "header": {
             "fill": {
              "color": "#2a3f5f"
             },
             "line": {
              "color": "rgb(17,17,17)"
             }
            },
            "type": "table"
           }
          ]
         },
         "layout": {
          "annotationdefaults": {
           "arrowcolor": "#f2f5fa",
           "arrowhead": 0,
           "arrowwidth": 1
          },
          "autotypenumbers": "strict",
          "coloraxis": {
           "colorbar": {
            "outlinewidth": 0,
            "ticks": ""
           }
          },
          "colorscale": {
           "diverging": [
            [
             0,
             "#8e0152"
            ],
            [
             0.1,
             "#c51b7d"
            ],
            [
             0.2,
             "#de77ae"
            ],
            [
             0.3,
             "#f1b6da"
            ],
            [
             0.4,
             "#fde0ef"
            ],
            [
             0.5,
             "#f7f7f7"
            ],
            [
             0.6,
             "#e6f5d0"
            ],
            [
             0.7,
             "#b8e186"
            ],
            [
             0.8,
             "#7fbc41"
            ],
            [
             0.9,
             "#4d9221"
            ],
            [
             1,
             "#276419"
            ]
           ],
           "sequential": [
            [
             0,
             "#0d0887"
            ],
            [
             0.1111111111111111,
             "#46039f"
            ],
            [
             0.2222222222222222,
             "#7201a8"
            ],
            [
             0.3333333333333333,
             "#9c179e"
            ],
            [
             0.4444444444444444,
             "#bd3786"
            ],
            [
             0.5555555555555556,
             "#d8576b"
            ],
            [
             0.6666666666666666,
             "#ed7953"
            ],
            [
             0.7777777777777778,
             "#fb9f3a"
            ],
            [
             0.8888888888888888,
             "#fdca26"
            ],
            [
             1,
             "#f0f921"
            ]
           ],
           "sequentialminus": [
            [
             0,
             "#0d0887"
            ],
            [
             0.1111111111111111,
             "#46039f"
            ],
            [
             0.2222222222222222,
             "#7201a8"
            ],
            [
             0.3333333333333333,
             "#9c179e"
            ],
            [
             0.4444444444444444,
             "#bd3786"
            ],
            [
             0.5555555555555556,
             "#d8576b"
            ],
            [
             0.6666666666666666,
             "#ed7953"
            ],
            [
             0.7777777777777778,
             "#fb9f3a"
            ],
            [
             0.8888888888888888,
             "#fdca26"
            ],
            [
             1,
             "#f0f921"
            ]
           ]
          },
          "colorway": [
           "#636efa",
           "#EF553B",
           "#00cc96",
           "#ab63fa",
           "#FFA15A",
           "#19d3f3",
           "#FF6692",
           "#B6E880",
           "#FF97FF",
           "#FECB52"
          ],
          "font": {
           "color": "#f2f5fa"
          },
          "geo": {
           "bgcolor": "rgb(17,17,17)",
           "lakecolor": "rgb(17,17,17)",
           "landcolor": "rgb(17,17,17)",
           "showlakes": true,
           "showland": true,
           "subunitcolor": "#506784"
          },
          "hoverlabel": {
           "align": "left"
          },
          "hovermode": "closest",
          "mapbox": {
           "style": "dark"
          },
          "paper_bgcolor": "rgb(17,17,17)",
          "plot_bgcolor": "rgb(17,17,17)",
          "polar": {
           "angularaxis": {
            "gridcolor": "#506784",
            "linecolor": "#506784",
            "ticks": ""
           },
           "bgcolor": "rgb(17,17,17)",
           "radialaxis": {
            "gridcolor": "#506784",
            "linecolor": "#506784",
            "ticks": ""
           }
          },
          "scene": {
           "xaxis": {
            "backgroundcolor": "rgb(17,17,17)",
            "gridcolor": "#506784",
            "gridwidth": 2,
            "linecolor": "#506784",
            "showbackground": true,
            "ticks": "",
            "zerolinecolor": "#C8D4E3"
           },
           "yaxis": {
            "backgroundcolor": "rgb(17,17,17)",
            "gridcolor": "#506784",
            "gridwidth": 2,
            "linecolor": "#506784",
            "showbackground": true,
            "ticks": "",
            "zerolinecolor": "#C8D4E3"
           },
           "zaxis": {
            "backgroundcolor": "rgb(17,17,17)",
            "gridcolor": "#506784",
            "gridwidth": 2,
            "linecolor": "#506784",
            "showbackground": true,
            "ticks": "",
            "zerolinecolor": "#C8D4E3"
           }
          },
          "shapedefaults": {
           "line": {
            "color": "#f2f5fa"
           }
          },
          "sliderdefaults": {
           "bgcolor": "#C8D4E3",
           "bordercolor": "rgb(17,17,17)",
           "borderwidth": 1,
           "tickwidth": 0
          },
          "ternary": {
           "aaxis": {
            "gridcolor": "#506784",
            "linecolor": "#506784",
            "ticks": ""
           },
           "baxis": {
            "gridcolor": "#506784",
            "linecolor": "#506784",
            "ticks": ""
           },
           "bgcolor": "rgb(17,17,17)",
           "caxis": {
            "gridcolor": "#506784",
            "linecolor": "#506784",
            "ticks": ""
           }
          },
          "title": {
           "x": 0.05
          },
          "updatemenudefaults": {
           "bgcolor": "#506784",
           "borderwidth": 0
          },
          "xaxis": {
           "automargin": true,
           "gridcolor": "#283442",
           "linecolor": "#506784",
           "ticks": "",
           "title": {
            "standoff": 15
           },
           "zerolinecolor": "#283442",
           "zerolinewidth": 2
          },
          "yaxis": {
           "automargin": true,
           "gridcolor": "#283442",
           "linecolor": "#506784",
           "ticks": "",
           "title": {
            "standoff": 15
           },
           "zerolinecolor": "#283442",
           "zerolinewidth": 2
          }
         }
        },
        "title": {
         "text": "Candlestick Chart with Moving Averages"
        },
        "xaxis": {
         "rangeslider": {
          "visible": false
         },
         "title": {
          "text": "Time"
         }
        },
        "yaxis": {
         "title": {
          "text": "Price"
         }
        }
       }
      }
     },
     "metadata": {},
     "output_type": "display_data"
    }
   ],
   "source": [
    "# Specifying the area\n",
    "data_plot = data.loc[220:].copy()\n",
    "\n",
    "# Create the figure\n",
    "fig = go.Figure()\n",
    "\n",
    "# Add the candlestick trace\n",
    "fig.add_trace(go.Candlestick(\n",
    "    x=data_plot['time'],\n",
    "    open=data_plot['open'],\n",
    "    high=data_plot['high'],\n",
    "    low=data_plot['low'],\n",
    "    close=data_plot['close'],\n",
    "    name=\"Candlestick\"\n",
    "))\n",
    "\n",
    "# Add moving average for MA_16\n",
    "fig.add_trace(go.Scatter(\n",
    "    x=data_plot['time'],\n",
    "    y=data_plot['MA_24'],\n",
    "    mode='lines',\n",
    "    line=dict(color='blue', width=1),\n",
    "    name=\"MA_16\"\n",
    "))\n",
    "\n",
    "# Add moving average for MA_50\n",
    "fig.add_trace(go.Scatter(\n",
    "    x=data_plot['time'],\n",
    "    y=data_plot['MA_25'],\n",
    "    mode='lines',\n",
    "    line=dict(color='red', width=1),\n",
    "    name=\"MA_50\"\n",
    "))\n",
    "\n",
    "# Update layout for better readability\n",
    "fig.update_layout(\n",
    "    title=\"Candlestick Chart with Moving Averages\",\n",
    "    xaxis_title=\"Time\",\n",
    "    yaxis_title=\"Price\",\n",
    "    xaxis_rangeslider_visible=False,\n",
    "    template=\"plotly_dark\"\n",
    ")\n",
    "\n",
    "# Show the figure\n",
    "fig.show()\n",
    "\n",
    "# view trades\n",
    "# print(view_trades)"
   ]
  },
  {
   "cell_type": "code",
   "execution_count": 159,
   "metadata": {},
   "outputs": [
    {
     "data": {
      "text/html": [
       "<div>\n",
       "<style scoped>\n",
       "    .dataframe tbody tr th:only-of-type {\n",
       "        vertical-align: middle;\n",
       "    }\n",
       "\n",
       "    .dataframe tbody tr th {\n",
       "        vertical-align: top;\n",
       "    }\n",
       "\n",
       "    .dataframe thead th {\n",
       "        text-align: right;\n",
       "    }\n",
       "</style>\n",
       "<table border=\"1\" class=\"dataframe\">\n",
       "  <thead>\n",
       "    <tr style=\"text-align: right;\">\n",
       "      <th></th>\n",
       "      <th>time</th>\n",
       "      <th>Trade</th>\n",
       "      <th>Trade_Success</th>\n",
       "      <th>Entry_Price</th>\n",
       "      <th>Take_Profit</th>\n",
       "      <th>Stop_Loss</th>\n",
       "    </tr>\n",
       "  </thead>\n",
       "  <tbody>\n",
       "    <tr>\n",
       "      <th>239</th>\n",
       "      <td>2024-01-29 20:00:00</td>\n",
       "      <td>Sell</td>\n",
       "      <td>No Result</td>\n",
       "      <td>1.08312</td>\n",
       "      <td>1.07812</td>\n",
       "      <td>1.08812</td>\n",
       "    </tr>\n",
       "    <tr>\n",
       "      <th>244</th>\n",
       "      <td>2024-01-30 06:00:00</td>\n",
       "      <td>Buy</td>\n",
       "      <td>No Result</td>\n",
       "      <td>1.08232</td>\n",
       "      <td>1.08732</td>\n",
       "      <td>1.07732</td>\n",
       "    </tr>\n",
       "    <tr>\n",
       "      <th>245</th>\n",
       "      <td>2024-01-30 08:00:00</td>\n",
       "      <td>Sell</td>\n",
       "      <td>No Result</td>\n",
       "      <td>1.08253</td>\n",
       "      <td>1.07753</td>\n",
       "      <td>1.08753</td>\n",
       "    </tr>\n",
       "  </tbody>\n",
       "</table>\n",
       "</div>"
      ],
      "text/plain": [
       "                   time Trade Trade_Success Entry_Price Take_Profit Stop_Loss\n",
       "239 2024-01-29 20:00:00  Sell     No Result     1.08312     1.07812   1.08812\n",
       "244 2024-01-30 06:00:00   Buy     No Result     1.08232     1.08732   1.07732\n",
       "245 2024-01-30 08:00:00  Sell     No Result     1.08253     1.07753   1.08753"
      ]
     },
     "execution_count": 159,
     "metadata": {},
     "output_type": "execute_result"
    }
   ],
   "source": [
    "view_trades[view_trades['Trade_Success']=='No Result']"
   ]
  },
  {
   "cell_type": "code",
   "execution_count": 155,
   "metadata": {},
   "outputs": [
    {
     "data": {
      "text/html": [
       "<div>\n",
       "<style scoped>\n",
       "    .dataframe tbody tr th:only-of-type {\n",
       "        vertical-align: middle;\n",
       "    }\n",
       "\n",
       "    .dataframe tbody tr th {\n",
       "        vertical-align: top;\n",
       "    }\n",
       "\n",
       "    .dataframe thead th {\n",
       "        text-align: right;\n",
       "    }\n",
       "</style>\n",
       "<table border=\"1\" class=\"dataframe\">\n",
       "  <thead>\n",
       "    <tr style=\"text-align: right;\">\n",
       "      <th></th>\n",
       "      <th>time</th>\n",
       "      <th>Trade</th>\n",
       "      <th>Trade_Success</th>\n",
       "      <th>Entry_Price</th>\n",
       "      <th>Take_Profit</th>\n",
       "      <th>Stop_Loss</th>\n",
       "    </tr>\n",
       "  </thead>\n",
       "  <tbody>\n",
       "    <tr>\n",
       "      <th>220</th>\n",
       "      <td>2024-01-26 06:00:00</td>\n",
       "      <td>Sell</td>\n",
       "      <td>Fail</td>\n",
       "      <td>1.08181</td>\n",
       "      <td>1.07681</td>\n",
       "      <td>1.08681</td>\n",
       "    </tr>\n",
       "    <tr>\n",
       "      <th>221</th>\n",
       "      <td>2024-01-26 08:00:00</td>\n",
       "      <td>None</td>\n",
       "      <td>None</td>\n",
       "      <td>None</td>\n",
       "      <td>None</td>\n",
       "      <td>None</td>\n",
       "    </tr>\n",
       "    <tr>\n",
       "      <th>222</th>\n",
       "      <td>2024-01-26 10:00:00</td>\n",
       "      <td>None</td>\n",
       "      <td>None</td>\n",
       "      <td>None</td>\n",
       "      <td>None</td>\n",
       "      <td>None</td>\n",
       "    </tr>\n",
       "    <tr>\n",
       "      <th>223</th>\n",
       "      <td>2024-01-26 12:00:00</td>\n",
       "      <td>None</td>\n",
       "      <td>None</td>\n",
       "      <td>None</td>\n",
       "      <td>None</td>\n",
       "      <td>None</td>\n",
       "    </tr>\n",
       "    <tr>\n",
       "      <th>224</th>\n",
       "      <td>2024-01-26 14:00:00</td>\n",
       "      <td>None</td>\n",
       "      <td>None</td>\n",
       "      <td>None</td>\n",
       "      <td>None</td>\n",
       "      <td>None</td>\n",
       "    </tr>\n",
       "    <tr>\n",
       "      <th>225</th>\n",
       "      <td>2024-01-26 16:00:00</td>\n",
       "      <td>None</td>\n",
       "      <td>None</td>\n",
       "      <td>None</td>\n",
       "      <td>None</td>\n",
       "      <td>None</td>\n",
       "    </tr>\n",
       "    <tr>\n",
       "      <th>226</th>\n",
       "      <td>2024-01-26 18:00:00</td>\n",
       "      <td>None</td>\n",
       "      <td>None</td>\n",
       "      <td>None</td>\n",
       "      <td>None</td>\n",
       "      <td>None</td>\n",
       "    </tr>\n",
       "    <tr>\n",
       "      <th>227</th>\n",
       "      <td>2024-01-26 20:00:00</td>\n",
       "      <td>None</td>\n",
       "      <td>None</td>\n",
       "      <td>None</td>\n",
       "      <td>None</td>\n",
       "      <td>None</td>\n",
       "    </tr>\n",
       "    <tr>\n",
       "      <th>228</th>\n",
       "      <td>2024-01-28 22:00:00</td>\n",
       "      <td>None</td>\n",
       "      <td>None</td>\n",
       "      <td>None</td>\n",
       "      <td>None</td>\n",
       "      <td>None</td>\n",
       "    </tr>\n",
       "    <tr>\n",
       "      <th>229</th>\n",
       "      <td>2024-01-29 00:00:00</td>\n",
       "      <td>None</td>\n",
       "      <td>None</td>\n",
       "      <td>None</td>\n",
       "      <td>None</td>\n",
       "      <td>None</td>\n",
       "    </tr>\n",
       "    <tr>\n",
       "      <th>230</th>\n",
       "      <td>2024-01-29 02:00:00</td>\n",
       "      <td>None</td>\n",
       "      <td>None</td>\n",
       "      <td>None</td>\n",
       "      <td>None</td>\n",
       "      <td>None</td>\n",
       "    </tr>\n",
       "    <tr>\n",
       "      <th>231</th>\n",
       "      <td>2024-01-29 04:00:00</td>\n",
       "      <td>None</td>\n",
       "      <td>None</td>\n",
       "      <td>None</td>\n",
       "      <td>None</td>\n",
       "      <td>None</td>\n",
       "    </tr>\n",
       "    <tr>\n",
       "      <th>232</th>\n",
       "      <td>2024-01-29 06:00:00</td>\n",
       "      <td>None</td>\n",
       "      <td>None</td>\n",
       "      <td>None</td>\n",
       "      <td>None</td>\n",
       "      <td>None</td>\n",
       "    </tr>\n",
       "    <tr>\n",
       "      <th>233</th>\n",
       "      <td>2024-01-29 08:00:00</td>\n",
       "      <td>None</td>\n",
       "      <td>None</td>\n",
       "      <td>None</td>\n",
       "      <td>None</td>\n",
       "      <td>None</td>\n",
       "    </tr>\n",
       "    <tr>\n",
       "      <th>234</th>\n",
       "      <td>2024-01-29 10:00:00</td>\n",
       "      <td>None</td>\n",
       "      <td>None</td>\n",
       "      <td>None</td>\n",
       "      <td>None</td>\n",
       "      <td>None</td>\n",
       "    </tr>\n",
       "    <tr>\n",
       "      <th>235</th>\n",
       "      <td>2024-01-29 12:00:00</td>\n",
       "      <td>None</td>\n",
       "      <td>None</td>\n",
       "      <td>None</td>\n",
       "      <td>None</td>\n",
       "      <td>None</td>\n",
       "    </tr>\n",
       "    <tr>\n",
       "      <th>236</th>\n",
       "      <td>2024-01-29 14:00:00</td>\n",
       "      <td>Buy</td>\n",
       "      <td>Success</td>\n",
       "      <td>1.07982</td>\n",
       "      <td>1.08482</td>\n",
       "      <td>1.07482</td>\n",
       "    </tr>\n",
       "    <tr>\n",
       "      <th>237</th>\n",
       "      <td>2024-01-29 16:00:00</td>\n",
       "      <td>None</td>\n",
       "      <td>None</td>\n",
       "      <td>None</td>\n",
       "      <td>None</td>\n",
       "      <td>None</td>\n",
       "    </tr>\n",
       "    <tr>\n",
       "      <th>238</th>\n",
       "      <td>2024-01-29 18:00:00</td>\n",
       "      <td>None</td>\n",
       "      <td>None</td>\n",
       "      <td>None</td>\n",
       "      <td>None</td>\n",
       "      <td>None</td>\n",
       "    </tr>\n",
       "    <tr>\n",
       "      <th>239</th>\n",
       "      <td>2024-01-29 20:00:00</td>\n",
       "      <td>Sell</td>\n",
       "      <td>No Result</td>\n",
       "      <td>1.08312</td>\n",
       "      <td>1.07812</td>\n",
       "      <td>1.08812</td>\n",
       "    </tr>\n",
       "    <tr>\n",
       "      <th>240</th>\n",
       "      <td>2024-01-29 22:00:00</td>\n",
       "      <td>None</td>\n",
       "      <td>None</td>\n",
       "      <td>None</td>\n",
       "      <td>None</td>\n",
       "      <td>None</td>\n",
       "    </tr>\n",
       "    <tr>\n",
       "      <th>241</th>\n",
       "      <td>2024-01-30 00:00:00</td>\n",
       "      <td>None</td>\n",
       "      <td>None</td>\n",
       "      <td>None</td>\n",
       "      <td>None</td>\n",
       "      <td>None</td>\n",
       "    </tr>\n",
       "    <tr>\n",
       "      <th>242</th>\n",
       "      <td>2024-01-30 02:00:00</td>\n",
       "      <td>None</td>\n",
       "      <td>None</td>\n",
       "      <td>None</td>\n",
       "      <td>None</td>\n",
       "      <td>None</td>\n",
       "    </tr>\n",
       "    <tr>\n",
       "      <th>243</th>\n",
       "      <td>2024-01-30 04:00:00</td>\n",
       "      <td>None</td>\n",
       "      <td>None</td>\n",
       "      <td>None</td>\n",
       "      <td>None</td>\n",
       "      <td>None</td>\n",
       "    </tr>\n",
       "    <tr>\n",
       "      <th>244</th>\n",
       "      <td>2024-01-30 06:00:00</td>\n",
       "      <td>Buy</td>\n",
       "      <td>No Result</td>\n",
       "      <td>1.08232</td>\n",
       "      <td>1.08732</td>\n",
       "      <td>1.07732</td>\n",
       "    </tr>\n",
       "    <tr>\n",
       "      <th>245</th>\n",
       "      <td>2024-01-30 08:00:00</td>\n",
       "      <td>Sell</td>\n",
       "      <td>No Result</td>\n",
       "      <td>1.08253</td>\n",
       "      <td>1.07753</td>\n",
       "      <td>1.08753</td>\n",
       "    </tr>\n",
       "    <tr>\n",
       "      <th>246</th>\n",
       "      <td>2024-01-30 10:00:00</td>\n",
       "      <td>None</td>\n",
       "      <td>None</td>\n",
       "      <td>None</td>\n",
       "      <td>None</td>\n",
       "      <td>None</td>\n",
       "    </tr>\n",
       "    <tr>\n",
       "      <th>247</th>\n",
       "      <td>2024-01-30 12:00:00</td>\n",
       "      <td>None</td>\n",
       "      <td>None</td>\n",
       "      <td>None</td>\n",
       "      <td>None</td>\n",
       "      <td>None</td>\n",
       "    </tr>\n",
       "    <tr>\n",
       "      <th>248</th>\n",
       "      <td>2024-01-30 14:00:00</td>\n",
       "      <td>None</td>\n",
       "      <td>None</td>\n",
       "      <td>None</td>\n",
       "      <td>None</td>\n",
       "      <td>None</td>\n",
       "    </tr>\n",
       "    <tr>\n",
       "      <th>249</th>\n",
       "      <td>2024-01-30 16:00:00</td>\n",
       "      <td>None</td>\n",
       "      <td>None</td>\n",
       "      <td>None</td>\n",
       "      <td>None</td>\n",
       "      <td>None</td>\n",
       "    </tr>\n",
       "    <tr>\n",
       "      <th>250</th>\n",
       "      <td>2024-01-30 18:00:00</td>\n",
       "      <td>None</td>\n",
       "      <td>None</td>\n",
       "      <td>None</td>\n",
       "      <td>None</td>\n",
       "      <td>None</td>\n",
       "    </tr>\n",
       "  </tbody>\n",
       "</table>\n",
       "</div>"
      ],
      "text/plain": [
       "                   time Trade Trade_Success Entry_Price Take_Profit Stop_Loss\n",
       "220 2024-01-26 06:00:00  Sell          Fail     1.08181     1.07681   1.08681\n",
       "221 2024-01-26 08:00:00  None          None        None        None      None\n",
       "222 2024-01-26 10:00:00  None          None        None        None      None\n",
       "223 2024-01-26 12:00:00  None          None        None        None      None\n",
       "224 2024-01-26 14:00:00  None          None        None        None      None\n",
       "225 2024-01-26 16:00:00  None          None        None        None      None\n",
       "226 2024-01-26 18:00:00  None          None        None        None      None\n",
       "227 2024-01-26 20:00:00  None          None        None        None      None\n",
       "228 2024-01-28 22:00:00  None          None        None        None      None\n",
       "229 2024-01-29 00:00:00  None          None        None        None      None\n",
       "230 2024-01-29 02:00:00  None          None        None        None      None\n",
       "231 2024-01-29 04:00:00  None          None        None        None      None\n",
       "232 2024-01-29 06:00:00  None          None        None        None      None\n",
       "233 2024-01-29 08:00:00  None          None        None        None      None\n",
       "234 2024-01-29 10:00:00  None          None        None        None      None\n",
       "235 2024-01-29 12:00:00  None          None        None        None      None\n",
       "236 2024-01-29 14:00:00   Buy       Success     1.07982     1.08482   1.07482\n",
       "237 2024-01-29 16:00:00  None          None        None        None      None\n",
       "238 2024-01-29 18:00:00  None          None        None        None      None\n",
       "239 2024-01-29 20:00:00  Sell     No Result     1.08312     1.07812   1.08812\n",
       "240 2024-01-29 22:00:00  None          None        None        None      None\n",
       "241 2024-01-30 00:00:00  None          None        None        None      None\n",
       "242 2024-01-30 02:00:00  None          None        None        None      None\n",
       "243 2024-01-30 04:00:00  None          None        None        None      None\n",
       "244 2024-01-30 06:00:00   Buy     No Result     1.08232     1.08732   1.07732\n",
       "245 2024-01-30 08:00:00  Sell     No Result     1.08253     1.07753   1.08753\n",
       "246 2024-01-30 10:00:00  None          None        None        None      None\n",
       "247 2024-01-30 12:00:00  None          None        None        None      None\n",
       "248 2024-01-30 14:00:00  None          None        None        None      None\n",
       "249 2024-01-30 16:00:00  None          None        None        None      None\n",
       "250 2024-01-30 18:00:00  None          None        None        None      None"
      ]
     },
     "execution_count": 155,
     "metadata": {},
     "output_type": "execute_result"
    }
   ],
   "source": [
    "view_trades.loc[220:250][['time','Trade','Trade_Success','Entry_Price','Take_Profit','Stop_Loss']]"
   ]
  },
  {
   "cell_type": "code",
   "execution_count": 63,
   "metadata": {},
   "outputs": [
    {
     "data": {
      "text/plain": [
       "0.01"
      ]
     },
     "execution_count": 63,
     "metadata": {},
     "output_type": "execute_result"
    }
   ],
   "source": [
    "symbol_info= mt5.symbol_info(\"BTCUSDm\")\n",
    "point = symbol_info.point\n",
    "point"
   ]
  },
  {
   "cell_type": "code",
   "execution_count": 59,
   "metadata": {},
   "outputs": [
    {
     "data": {
      "text/plain": [
       "28.8"
      ]
     },
     "execution_count": 59,
     "metadata": {},
     "output_type": "execute_result"
    }
   ],
   "source": [
    "mt5.symbol_info(symbol).spread * point"
   ]
  },
  {
   "cell_type": "code",
   "execution_count": 65,
   "metadata": {},
   "outputs": [
    {
     "data": {
      "text/plain": [
       "0.1"
      ]
     },
     "execution_count": 65,
     "metadata": {},
     "output_type": "execute_result"
    }
   ],
   "source": [
    "1 * symbol_info.point * 10"
   ]
  },
  {
   "cell_type": "code",
   "execution_count": 71,
   "metadata": {},
   "outputs": [
    {
     "data": {
      "text/plain": [
       "{'custom': False,\n",
       " 'chart_mode': 0,\n",
       " 'select': True,\n",
       " 'visible': True,\n",
       " 'session_deals': 0,\n",
       " 'session_buy_orders': 0,\n",
       " 'session_sell_orders': 0,\n",
       " 'volume': 0,\n",
       " 'volumehigh': 0,\n",
       " 'volumelow': 0,\n",
       " 'time': 1734250622,\n",
       " 'digits': 2,\n",
       " 'spread': 2880,\n",
       " 'spread_float': True,\n",
       " 'ticks_bookdepth': 0,\n",
       " 'trade_calc_mode': 5,\n",
       " 'trade_mode': 4,\n",
       " 'start_time': 0,\n",
       " 'expiration_time': 0,\n",
       " 'trade_stops_level': 0,\n",
       " 'trade_freeze_level': 0,\n",
       " 'trade_exemode': 2,\n",
       " 'swap_mode': 1,\n",
       " 'swap_rollover3days': 5,\n",
       " 'margin_hedged_use_leg': False,\n",
       " 'expiration_mode': 15,\n",
       " 'filling_mode': 3,\n",
       " 'order_mode': 127,\n",
       " 'order_gtc_mode': 0,\n",
       " 'option_mode': 0,\n",
       " 'option_right': 0,\n",
       " 'bid': 101740.99,\n",
       " 'bidhigh': 102806.43,\n",
       " 'bidlow': 101213.18,\n",
       " 'ask': 101769.79,\n",
       " 'askhigh': 102839.26,\n",
       " 'asklow': 101241.98,\n",
       " 'last': 0.0,\n",
       " 'lasthigh': 0.0,\n",
       " 'lastlow': 0.0,\n",
       " 'volume_real': 0.0,\n",
       " 'volumehigh_real': 0.0,\n",
       " 'volumelow_real': 0.0,\n",
       " 'option_strike': 0.0,\n",
       " 'point': 0.01,\n",
       " 'trade_tick_value': 0.01,\n",
       " 'trade_tick_value_profit': 0.01,\n",
       " 'trade_tick_value_loss': 0.01,\n",
       " 'trade_tick_size': 0.01,\n",
       " 'trade_contract_size': 1.0,\n",
       " 'trade_accrued_interest': 0.0,\n",
       " 'trade_face_value': 0.0,\n",
       " 'trade_liquidity_rate': 0.0,\n",
       " 'volume_min': 0.01,\n",
       " 'volume_max': 20.0,\n",
       " 'volume_step': 0.01,\n",
       " 'volume_limit': 0.0,\n",
       " 'swap_long': -2088.5,\n",
       " 'swap_short': 0.0,\n",
       " 'margin_initial': 1.0,\n",
       " 'margin_maintenance': 0.0,\n",
       " 'session_volume': 0.0,\n",
       " 'session_turnover': 0.0,\n",
       " 'session_interest': 0.0,\n",
       " 'session_buy_orders_volume': 0.0,\n",
       " 'session_sell_orders_volume': 0.0,\n",
       " 'session_open': 101396.0,\n",
       " 'session_close': 101396.02,\n",
       " 'session_aw': 0.0,\n",
       " 'session_price_settlement': 0.0,\n",
       " 'session_price_limit_min': 0.0,\n",
       " 'session_price_limit_max': 0.0,\n",
       " 'margin_hedged': 0.0,\n",
       " 'price_change': 0.3402,\n",
       " 'price_volatility': 0.0,\n",
       " 'price_theoretical': 0.0,\n",
       " 'price_greeks_delta': 0.0,\n",
       " 'price_greeks_theta': 0.0,\n",
       " 'price_greeks_gamma': 0.0,\n",
       " 'price_greeks_vega': 0.0,\n",
       " 'price_greeks_rho': 0.0,\n",
       " 'price_greeks_omega': 0.0,\n",
       " 'price_sensitivity': 0.0,\n",
       " 'basis': '',\n",
       " 'category': 'Crypto',\n",
       " 'currency_base': 'BTC',\n",
       " 'currency_profit': 'USD',\n",
       " 'currency_margin': 'BTC',\n",
       " 'bank': '',\n",
       " 'description': 'Bitcoin vs US Dollar',\n",
       " 'exchange': '',\n",
       " 'formula': '',\n",
       " 'isin': '',\n",
       " 'name': 'BTCUSDm',\n",
       " 'page': '',\n",
       " 'path': 'Crypto_group\\\\BTCUSDm'}"
      ]
     },
     "execution_count": 71,
     "metadata": {},
     "output_type": "execute_result"
    }
   ],
   "source": [
    "symbol_info._asdict()"
   ]
  },
  {
   "cell_type": "markdown",
   "metadata": {},
   "source": [
    "### Conclusion"
   ]
  },
  {
   "cell_type": "markdown",
   "metadata": {},
   "source": [
    "- There were no substantial results within the 2 to 50 range with a 1:1 risk to reward ratio from 300 to 1000 pips"
   ]
  },
  {
   "cell_type": "markdown",
   "metadata": {},
   "source": []
  }
 ],
 "metadata": {
  "kernelspec": {
   "display_name": ".venv",
   "language": "python",
   "name": "python3"
  },
  "language_info": {
   "codemirror_mode": {
    "name": "ipython",
    "version": 3
   },
   "file_extension": ".py",
   "mimetype": "text/x-python",
   "name": "python",
   "nbconvert_exporter": "python",
   "pygments_lexer": "ipython3",
   "version": "3.8.10"
  }
 },
 "nbformat": 4,
 "nbformat_minor": 2
}
