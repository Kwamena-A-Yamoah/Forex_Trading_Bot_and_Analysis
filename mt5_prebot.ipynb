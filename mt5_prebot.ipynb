{
 "cells": [
  {
   "cell_type": "markdown",
   "metadata": {},
   "source": [
    "# Metatrader 5\n",
    "___"
   ]
  },
  {
   "cell_type": "markdown",
   "metadata": {},
   "source": [
    "### Initialize and Login"
   ]
  },
  {
   "cell_type": "code",
   "execution_count": 57,
   "metadata": {},
   "outputs": [],
   "source": [
    "# %pip install MetaTrader5\n",
    "# %pip install pandas\n",
    "# %pip install plotly\n",
    "# %pip install python-dotenv\n"
   ]
  },
  {
   "cell_type": "code",
   "execution_count": 58,
   "metadata": {},
   "outputs": [],
   "source": [
    "import MetaTrader5 as mt5\n",
    "import numpy as np\n",
    "import pandas as pd\n",
    "from datetime import datetime\n",
    "import plotly.express as px\n",
    "\n",
    "# To access .env file\n",
    "from dotenv import load_dotenv\n",
    "\n",
    "import os\n",
    "import time"
   ]
  },
  {
   "cell_type": "code",
   "execution_count": 59,
   "metadata": {},
   "outputs": [],
   "source": [
    "# Access .env file\n",
    "load_dotenv(\".env\")\n",
    "\n",
    "# Access variables directly\n",
    "username = int(os.getenv(\"USER_NAME\"))\n",
    "password = os.getenv(\"PASSWORD\")\n",
    "server = os.getenv(\"SERVER\")\n",
    "\n",
    "symbols = os.getenv(\"SYMBOLS\")"
   ]
  },
  {
   "cell_type": "code",
   "execution_count": 60,
   "metadata": {},
   "outputs": [
    {
     "name": "stdout",
     "output_type": "stream",
     "text": [
      "MetaTrader successfully initialized\n",
      "MetaTrader login failed\n"
     ]
    }
   ],
   "source": [
    "# Initialize and log in to MetaTrader 5\n",
    "# connect to MetaTrader 5\n",
    "try:\n",
    "    # Initialize MetaTrader 5\n",
    "    if mt5.initialize():\n",
    "        print(\"MetaTrader successfully initialized\")\n",
    "        \n",
    "        # Log in to MetaTrader 5\n",
    "        if mt5.login(login=username, password=password, server=server):\n",
    "            print(\"MetaTrader login successful\")\n",
    "                \n",
    "        else:\n",
    "            print(\"MetaTrader login failed\")\n",
    "            mt5.shutdown()  # Ensure shutdown if login fails\n",
    "    else:\n",
    "        print(\"Failed to initialize MetaTrader 5\")\n",
    "except Exception as e:\n",
    "    print(f\"An error occurred: {e}\")"
   ]
  },
  {
   "cell_type": "markdown",
   "metadata": {},
   "source": [
    "### Get Data"
   ]
  },
  {
   "cell_type": "code",
   "execution_count": 50,
   "metadata": {},
   "outputs": [
    {
     "ename": "KeyError",
     "evalue": "93",
     "output_type": "error",
     "traceback": [
      "\u001b[1;31m---------------------------------------------------------------------------\u001b[0m",
      "\u001b[1;31mValueError\u001b[0m                                Traceback (most recent call last)",
      "File \u001b[1;32mc:\\Users\\Pc\\Desktop\\Python_trading_bot\\Forex_Trading_Bot_and_Analysis\\.venv\\lib\\site-packages\\pandas\\core\\indexes\\range.py:345\u001b[0m, in \u001b[0;36mRangeIndex.get_loc\u001b[1;34m(self, key)\u001b[0m\n\u001b[0;32m    344\u001b[0m \u001b[38;5;28;01mtry\u001b[39;00m:\n\u001b[1;32m--> 345\u001b[0m     \u001b[38;5;28;01mreturn\u001b[39;00m \u001b[38;5;28;43mself\u001b[39;49m\u001b[38;5;241;43m.\u001b[39;49m\u001b[43m_range\u001b[49m\u001b[38;5;241;43m.\u001b[39;49m\u001b[43mindex\u001b[49m\u001b[43m(\u001b[49m\u001b[43mnew_key\u001b[49m\u001b[43m)\u001b[49m\n\u001b[0;32m    346\u001b[0m \u001b[38;5;28;01mexcept\u001b[39;00m \u001b[38;5;167;01mValueError\u001b[39;00m \u001b[38;5;28;01mas\u001b[39;00m err:\n",
      "\u001b[1;31mValueError\u001b[0m: 93 is not in range",
      "\nThe above exception was the direct cause of the following exception:\n",
      "\u001b[1;31mKeyError\u001b[0m                                  Traceback (most recent call last)",
      "Cell \u001b[1;32mIn[50], line 2\u001b[0m\n\u001b[0;32m      1\u001b[0m \u001b[38;5;66;03m# Get names of all currency pairs\u001b[39;00m\n\u001b[1;32m----> 2\u001b[0m names\u001b[38;5;241m=\u001b[39m \u001b[43mpd\u001b[49m\u001b[38;5;241;43m.\u001b[39;49m\u001b[43mDataFrame\u001b[49m\u001b[43m(\u001b[49m\u001b[43mmt5\u001b[49m\u001b[38;5;241;43m.\u001b[39;49m\u001b[43msymbols_get\u001b[49m\u001b[43m(\u001b[49m\u001b[43m)\u001b[49m\u001b[43m)\u001b[49m\u001b[43m[\u001b[49m\u001b[38;5;241;43m93\u001b[39;49m\u001b[43m]\u001b[49m\n\u001b[0;32m      3\u001b[0m names\n",
      "File \u001b[1;32mc:\\Users\\Pc\\Desktop\\Python_trading_bot\\Forex_Trading_Bot_and_Analysis\\.venv\\lib\\site-packages\\pandas\\core\\frame.py:3761\u001b[0m, in \u001b[0;36mDataFrame.__getitem__\u001b[1;34m(self, key)\u001b[0m\n\u001b[0;32m   3759\u001b[0m \u001b[38;5;28;01mif\u001b[39;00m \u001b[38;5;28mself\u001b[39m\u001b[38;5;241m.\u001b[39mcolumns\u001b[38;5;241m.\u001b[39mnlevels \u001b[38;5;241m>\u001b[39m \u001b[38;5;241m1\u001b[39m:\n\u001b[0;32m   3760\u001b[0m     \u001b[38;5;28;01mreturn\u001b[39;00m \u001b[38;5;28mself\u001b[39m\u001b[38;5;241m.\u001b[39m_getitem_multilevel(key)\n\u001b[1;32m-> 3761\u001b[0m indexer \u001b[38;5;241m=\u001b[39m \u001b[38;5;28;43mself\u001b[39;49m\u001b[38;5;241;43m.\u001b[39;49m\u001b[43mcolumns\u001b[49m\u001b[38;5;241;43m.\u001b[39;49m\u001b[43mget_loc\u001b[49m\u001b[43m(\u001b[49m\u001b[43mkey\u001b[49m\u001b[43m)\u001b[49m\n\u001b[0;32m   3762\u001b[0m \u001b[38;5;28;01mif\u001b[39;00m is_integer(indexer):\n\u001b[0;32m   3763\u001b[0m     indexer \u001b[38;5;241m=\u001b[39m [indexer]\n",
      "File \u001b[1;32mc:\\Users\\Pc\\Desktop\\Python_trading_bot\\Forex_Trading_Bot_and_Analysis\\.venv\\lib\\site-packages\\pandas\\core\\indexes\\range.py:347\u001b[0m, in \u001b[0;36mRangeIndex.get_loc\u001b[1;34m(self, key)\u001b[0m\n\u001b[0;32m    345\u001b[0m         \u001b[38;5;28;01mreturn\u001b[39;00m \u001b[38;5;28mself\u001b[39m\u001b[38;5;241m.\u001b[39m_range\u001b[38;5;241m.\u001b[39mindex(new_key)\n\u001b[0;32m    346\u001b[0m     \u001b[38;5;28;01mexcept\u001b[39;00m \u001b[38;5;167;01mValueError\u001b[39;00m \u001b[38;5;28;01mas\u001b[39;00m err:\n\u001b[1;32m--> 347\u001b[0m         \u001b[38;5;28;01mraise\u001b[39;00m \u001b[38;5;167;01mKeyError\u001b[39;00m(key) \u001b[38;5;28;01mfrom\u001b[39;00m \u001b[38;5;21;01merr\u001b[39;00m\n\u001b[0;32m    348\u001b[0m \u001b[38;5;28;01mif\u001b[39;00m \u001b[38;5;28misinstance\u001b[39m(key, Hashable):\n\u001b[0;32m    349\u001b[0m     \u001b[38;5;28;01mraise\u001b[39;00m \u001b[38;5;167;01mKeyError\u001b[39;00m(key)\n",
      "\u001b[1;31mKeyError\u001b[0m: 93"
     ]
    }
   ],
   "source": [
    "# Get names of all currency pairs\n",
    "names= pd.DataFrame(mt5.symbols_get())[93]\n",
    "names"
   ]
  },
  {
   "cell_type": "code",
   "execution_count": null,
   "metadata": {},
   "outputs": [
    {
     "data": {
      "text/plain": [
       "136    EURAUDm\n",
       "137    EURCADm\n",
       "138    EURCHFm\n",
       "139    EURDKKm\n",
       "140    EURGBPm\n",
       "141    EURHKDm\n",
       "142    EURJPYm\n",
       "143    EURMXNm\n",
       "144    EURNOKm\n",
       "145    EURNZDm\n",
       "146    EURPLNm\n",
       "147    EURSEKm\n",
       "148    EURSGDm\n",
       "149    EURTRYm\n",
       "150    EURUSDm\n",
       "151    EURZARm\n",
       "210    XAGEURm\n",
       "214    XAUEURm\n",
       "Name: 93, dtype: object"
      ]
     },
     "execution_count": 81,
     "metadata": {},
     "output_type": "execute_result"
    }
   ],
   "source": [
    "# Filter for all symbols containing \"EUR\"\n",
    "names[names.str.contains(\"EUR\", na=False)]"
   ]
  },
  {
   "cell_type": "code",
   "execution_count": null,
   "metadata": {},
   "outputs": [
    {
     "data": {
      "text/plain": [
       "array([(1729728000, 1.07799, 1.0781 , 1.07795, 1.07806, 44, 9, 0),\n",
       "       (1729728060, 1.07806, 1.07814, 1.07802, 1.07812, 34, 9, 0),\n",
       "       (1729728120, 1.07812, 1.07816, 1.0781 , 1.07815, 26, 9, 0), ...,\n",
       "       (1730313780, 1.08684, 1.08688, 1.08681, 1.08682, 15, 9, 0),\n",
       "       (1730313840, 1.08682, 1.08687, 1.0868 , 1.08687, 10, 9, 0),\n",
       "       (1730313900, 1.08688, 1.08688, 1.08686, 1.08688,  6, 9, 0)],\n",
       "      dtype=[('time', '<i8'), ('open', '<f8'), ('high', '<f8'), ('low', '<f8'), ('close', '<f8'), ('tick_volume', '<u8'), ('spread', '<i4'), ('real_volume', '<u8')])"
      ]
     },
     "execution_count": 82,
     "metadata": {},
     "output_type": "execute_result"
    }
   ],
   "source": [
    "# request ticks from EURUSD\n",
    "# Retrieve currency data in 1 minute timeframe with a time range\n",
    "rates =  mt5.copy_rates_range(symbols, mt5.TIMEFRAME_M1, datetime(2024,10,24), datetime.now())\n",
    "rates"
   ]
  },
  {
   "cell_type": "code",
   "execution_count": null,
   "metadata": {},
   "outputs": [
    {
     "data": {
      "text/html": [
       "<div>\n",
       "<style scoped>\n",
       "    .dataframe tbody tr th:only-of-type {\n",
       "        vertical-align: middle;\n",
       "    }\n",
       "\n",
       "    .dataframe tbody tr th {\n",
       "        vertical-align: top;\n",
       "    }\n",
       "\n",
       "    .dataframe thead th {\n",
       "        text-align: right;\n",
       "    }\n",
       "</style>\n",
       "<table border=\"1\" class=\"dataframe\">\n",
       "  <thead>\n",
       "    <tr style=\"text-align: right;\">\n",
       "      <th></th>\n",
       "      <th>time</th>\n",
       "      <th>open</th>\n",
       "      <th>high</th>\n",
       "      <th>low</th>\n",
       "      <th>close</th>\n",
       "      <th>tick_volume</th>\n",
       "      <th>spread</th>\n",
       "      <th>real_volume</th>\n",
       "    </tr>\n",
       "  </thead>\n",
       "  <tbody>\n",
       "    <tr>\n",
       "      <th>6872</th>\n",
       "      <td>2024-10-30 18:41:00</td>\n",
       "      <td>1.08677</td>\n",
       "      <td>1.08688</td>\n",
       "      <td>1.08677</td>\n",
       "      <td>1.08686</td>\n",
       "      <td>15</td>\n",
       "      <td>9</td>\n",
       "      <td>0</td>\n",
       "    </tr>\n",
       "    <tr>\n",
       "      <th>6873</th>\n",
       "      <td>2024-10-30 18:42:00</td>\n",
       "      <td>1.08687</td>\n",
       "      <td>1.08688</td>\n",
       "      <td>1.08683</td>\n",
       "      <td>1.08684</td>\n",
       "      <td>21</td>\n",
       "      <td>9</td>\n",
       "      <td>0</td>\n",
       "    </tr>\n",
       "    <tr>\n",
       "      <th>6874</th>\n",
       "      <td>2024-10-30 18:43:00</td>\n",
       "      <td>1.08684</td>\n",
       "      <td>1.08688</td>\n",
       "      <td>1.08681</td>\n",
       "      <td>1.08682</td>\n",
       "      <td>15</td>\n",
       "      <td>9</td>\n",
       "      <td>0</td>\n",
       "    </tr>\n",
       "    <tr>\n",
       "      <th>6875</th>\n",
       "      <td>2024-10-30 18:44:00</td>\n",
       "      <td>1.08682</td>\n",
       "      <td>1.08687</td>\n",
       "      <td>1.08680</td>\n",
       "      <td>1.08687</td>\n",
       "      <td>10</td>\n",
       "      <td>9</td>\n",
       "      <td>0</td>\n",
       "    </tr>\n",
       "    <tr>\n",
       "      <th>6876</th>\n",
       "      <td>2024-10-30 18:45:00</td>\n",
       "      <td>1.08688</td>\n",
       "      <td>1.08688</td>\n",
       "      <td>1.08686</td>\n",
       "      <td>1.08688</td>\n",
       "      <td>6</td>\n",
       "      <td>9</td>\n",
       "      <td>0</td>\n",
       "    </tr>\n",
       "  </tbody>\n",
       "</table>\n",
       "</div>"
      ],
      "text/plain": [
       "                    time     open     high      low    close  tick_volume  \\\n",
       "6872 2024-10-30 18:41:00  1.08677  1.08688  1.08677  1.08686           15   \n",
       "6873 2024-10-30 18:42:00  1.08687  1.08688  1.08683  1.08684           21   \n",
       "6874 2024-10-30 18:43:00  1.08684  1.08688  1.08681  1.08682           15   \n",
       "6875 2024-10-30 18:44:00  1.08682  1.08687  1.08680  1.08687           10   \n",
       "6876 2024-10-30 18:45:00  1.08688  1.08688  1.08686  1.08688            6   \n",
       "\n",
       "      spread  real_volume  \n",
       "6872       9            0  \n",
       "6873       9            0  \n",
       "6874       9            0  \n",
       "6875       9            0  \n",
       "6876       9            0  "
      ]
     },
     "execution_count": 83,
     "metadata": {},
     "output_type": "execute_result"
    }
   ],
   "source": [
    "# Put data in a dataframe\n",
    "eur_usd = pd.DataFrame(rates)\n",
    "\n",
    "# Correct time columns into datetime format\n",
    "eur_usd['time'] = pd.to_datetime(eur_usd['time'], unit='s')\n",
    "\n",
    "# Assess ending of data\n",
    "eur_usd.tail()\n"
   ]
  },
  {
   "cell_type": "code",
   "execution_count": null,
   "metadata": {},
   "outputs": [
    {
     "data": {
      "text/plain": [
       "{'login': 191406440,\n",
       " 'trade_mode': 0,\n",
       " 'leverage': 2000,\n",
       " 'limit_orders': 1024,\n",
       " 'margin_so_mode': 0,\n",
       " 'trade_allowed': True,\n",
       " 'trade_expert': True,\n",
       " 'margin_mode': 2,\n",
       " 'currency_digits': 2,\n",
       " 'fifo_close': False,\n",
       " 'balance': 91.8,\n",
       " 'credit': 0.0,\n",
       " 'profit': 0.0,\n",
       " 'equity': 91.8,\n",
       " 'margin': 0.0,\n",
       " 'margin_free': 91.8,\n",
       " 'margin_level': 0.0,\n",
       " 'margin_so_call': 60.0,\n",
       " 'margin_so_so': 0.0,\n",
       " 'margin_initial': 0.0,\n",
       " 'margin_maintenance': 0.0,\n",
       " 'assets': 0.0,\n",
       " 'liabilities': 0.0,\n",
       " 'commission_blocked': 0.0,\n",
       " 'name': 'kay_demo',\n",
       " 'server': 'Exness-MT5Trial',\n",
       " 'currency': 'USD',\n",
       " 'company': 'Exness Technologies Ltd'}"
      ]
     },
     "execution_count": 84,
     "metadata": {},
     "output_type": "execute_result"
    }
   ],
   "source": [
    "# Accessing Account info\n",
    "account_info =  mt5.account_info()._asdict()\n",
    "account_info"
   ]
  },
  {
   "cell_type": "code",
   "execution_count": null,
   "metadata": {},
   "outputs": [
    {
     "name": "stdout",
     "output_type": "stream",
     "text": [
      "Total symbols available: 395\n"
     ]
    }
   ],
   "source": [
    "# Total symbols available\n",
    "total_symbols = mt5.symbols_total()\n",
    "\n",
    "print(\"Total symbols available:\", total_symbols)"
   ]
  },
  {
   "cell_type": "code",
   "execution_count": null,
   "metadata": {},
   "outputs": [],
   "source": [
    "# # Chart\n",
    "# fig = px.line(eur_usd, x=eur_usd['time'], y=eur_usd['close'], title='EUR/USD Chart')\n",
    "# fig.show()"
   ]
  },
  {
   "cell_type": "markdown",
   "metadata": {},
   "source": [
    "### Make Trade"
   ]
  },
  {
   "cell_type": "code",
   "execution_count": 10,
   "metadata": {},
   "outputs": [
    {
     "name": "stdout",
     "output_type": "stream",
     "text": [
      "Order: by EURUSDm 0.1 lots at 1.07112 \n",
      "Order successful\n"
     ]
    }
   ],
   "source": [
    "# Initialize trading parameters\n",
    "symbols = \"EURUSDm\"\n",
    "lot = 0.1\n",
    "price_buy = mt5.symbol_info_tick(symbols).ask\n",
    "point = mt5.symbol_info(symbols).point\n",
    "deviation = 20\n",
    "\n",
    "# Set up the trading request\n",
    "request = {\n",
    "    \"action\": mt5.TRADE_ACTION_DEAL,\n",
    "    \"symbol\": symbols,\n",
    "    \"volume\": lot,\n",
    "    \"type\": mt5.ORDER_TYPE_BUY, # buy order\n",
    "    #\"type\": mt5.ORDER_TYPE_SELL, # sell order\n",
    "    \"price\": mt5.symbol_info_tick(symbols).ask,\n",
    "    # \"sl\": price_buy - (20 * point),\n",
    "    # \"tp\": price_buy + (20 * point),\n",
    "    \"comment\": \"python script open\",\n",
    "    \"type_time\": mt5.ORDER_TIME_GTC,\n",
    "    \"type_filling\": mt5.ORDER_FILLING_IOC,\n",
    "}\n",
    "\n",
    "# Send the trading request\n",
    "result = mt5.order_send(request)\n",
    "\n",
    "# Check and print the execution result with detailed diagnostics\n",
    "print(\"Order: by {} {} lots at {} \".format(symbols, lot, price_buy))\n",
    "if result.retcode == mt5.TRADE_RETCODE_DONE:\n",
    "    print(\"Order successful\")\n",
    "elif result.retcode == 10004:\n",
    "    print(\"Order failed with error code:\", result.retcode)\n",
    "    print(\"TRADE_RETCODE_REQUOTE - Price has changed; a new quote is required.\")\n",
    "elif result.retcode == 10008:\n",
    "    print(\"Order succeeded with code:\", result.retcode)\n",
    "    print(\"TRADE_RETCODE_PLACED - The order has been placed successfully.\")\n",
    "elif result.retcode == 10013:\n",
    "    print(\"Order failed with error code:\", result.retcode)\n",
    "    print(\"TRADE_RETCODE_INVALID - Invalid trade parameters.\")\n",
    "elif result.retcode == 10014:\n",
    "    print(\"Order failed with error code:\", result.retcode)\n",
    "    print(\"TRADE_RETCODE_INVALID_VOLUME - The volume specified is incorrect.\")\n",
    "elif result.retcode == 10016:\n",
    "    print(\"Order failed with error code:\", result.retcode)\n",
    "    print(\"TRADE_RETCODE_INVALID_STOPS - The stop loss or take profit is invalid.\")\n",
    "elif result.retcode == 10017:\n",
    "    print(\"Order failed with error code:\", result.retcode)\n",
    "    print(\"TRADE_RETCODE_TRADE_DISABLED - Trading is disabled on this account.\")\n",
    "elif result.retcode == 10018:\n",
    "    print(\"Order failed with error code:\", result.retcode)\n",
    "    print(\"TRADE_RETCODE_MARKET_CLOSED - The market is currently closed.\")\n",
    "elif result.retcode == 10019:\n",
    "    print(\"Order failed with error code:\", result.retcode)\n",
    "    print(\"TRADE_RETCODE_NO_MONEY - Insufficient funds to execute the trade.\")\n",
    "elif result.retcode == 10026:\n",
    "    print(\"Order failed with error code:\", result.retcode)\n",
    "    print(\"TRADE_RETCODE_SERVER_DISABLES_AT - The server disabled trading at this time.\")\n",
    "elif result.retcode == 10027:\n",
    "    print(\"Order failed with error code:\", result.retcode)\n",
    "    print(\"TRADE_RETCODE_CLIENT_DISABLES_AT - The client disabled trading at this time.\")\n",
    "elif result.retcode == 10034:\n",
    "    print(\"Order failed with error code:\", result.retcode)\n",
    "    print(\"TRADE_RETCODE_LIMIT_VOLUME - The requested volume exceeds the limit.\")\n",
    "elif result.retcode == 10011:\n",
    "    print(\"Order failed with error code:\", result.retcode)\n",
    "    print(\"TRADE_RETCODE_ERROR - General trading error.\")\n",
    "elif result.retcode == 10012:\n",
    "    print(\"Order failed with error code:\", result.retcode)\n",
    "    print(\"TRADE_RETCODE_TIMEOUT - The trade request timed out.\")\n",
    "elif result.retcode == 10015:\n",
    "    print(\"Order failed with error code:\", result.retcode)\n",
    "    print(\"TRADE_RETCODE_INVALID_PRICE - The specified price is invalid.\")\n",
    "elif result.retcode == 10020:\n",
    "    print(\"Order failed with error code:\", result.retcode)\n",
    "    print(\"TRADE_RETCODE_PRICE_CHANGED - The price has changed; resubmit the request.\")\n",
    "elif result.retcode == 10021:\n",
    "    print(\"Order failed with error code:\", result.retcode)\n",
    "    print(\"TRADE_RETCODE_PRICE_OFF - The specified price is currently unavailable.\")\n",
    "elif result.retcode == 10024:\n",
    "    print(\"Order failed with error code:\", result.retcode)\n",
    "    print(\"TRADE_RETCODE_TOO_MANY_REQUESTS - Too many requests sent in a short time.\")\n",
    "elif result.retcode == 10031:\n",
    "    print(\"Order failed with error code:\", result.retcode)\n",
    "    print(\"TRADE_RETCODE_CONNECTION - Lost connection to the server.\")\n",
    "elif result.retcode == 0:\n",
    "    print(\"Order successful with code:\", result.retcode)\n",
    "    print(\"ERR_SUCCESS - The request was successful.\")\n",
    "elif result.retcode == 4752:\n",
    "    print(\"Order failed with error code:\", result.retcode)\n",
    "    print(\"ERR_TRADE_DISABLED - Trading is disabled.\")\n",
    "elif result.retcode == 4753:\n",
    "    print(\"Order failed with error code:\", result.retcode)\n",
    "    print(\"ERR_TRADE_POSITION_NOT_FOUND - The specified position could not be found.\")\n",
    "elif result.retcode == 4754:\n",
    "    print(\"Order failed with error code:\", result.retcode)\n",
    "    print(\"ERR_TRADE_ORDER_NOT_FOUND - The specified order could not be found.\")\n",
    "elif result.retcode == 4755:\n",
    "    print(\"Order failed with error code:\", result.retcode)\n",
    "    print(\"ERR_TRADE_DEAL_NOT_FOUND - The specified deal could not be found.\")\n",
    "else:\n",
    "    print(\"Order failed with unknown error code:\", result.retcode)\n",
    "    print(\"Error details:\", result)\n"
   ]
  },
  {
   "cell_type": "markdown",
   "metadata": {},
   "source": [
    "### Cancel Previous Trade"
   ]
  },
  {
   "cell_type": "code",
   "execution_count": 6,
   "metadata": {},
   "outputs": [
    {
     "data": {
      "text/plain": [
       "1063640333"
      ]
     },
     "execution_count": 6,
     "metadata": {},
     "output_type": "execute_result"
    }
   ],
   "source": [
    "# Get Order ticket\n",
    "mt5.positions_get()[0]._asdict()['ticket']"
   ]
  },
  {
   "cell_type": "code",
   "execution_count": 7,
   "metadata": {},
   "outputs": [
    {
     "name": "stdout",
     "output_type": "stream",
     "text": [
      "Order successfully closed\n"
     ]
    }
   ],
   "source": [
    "# Get the order number of previous trade\n",
    "order_number = mt5.positions_get()[0]._asdict()['ticket']\n",
    "\n",
    "# Closing the buy order placed earlier with a sell order and its order number\n",
    "request = {\n",
    "    \"action\": mt5.TRADE_ACTION_DEAL,\n",
    "    \"symbol\": symbols,\n",
    "    \"volume\": lot,\n",
    "    \"type\": mt5.ORDER_TYPE_SELL, # sell order\n",
    "    \"position\": order_number,\n",
    "    \"comment\": \"close open order\",\n",
    "    \"type_time\": mt5.ORDER_TIME_GTC,\n",
    "    \"type_filling\": mt5.ORDER_FILLING_IOC,\n",
    "}\n",
    "\n",
    "close = mt5.order_send(request)\n",
    "if result.retcode == mt5.TRADE_RETCODE_DONE:\n",
    "    print(\"Order successfully closed\")\n",
    "else:\n",
    "    print(\"Order failed with error code:\", close.retcode)"
   ]
  },
  {
   "cell_type": "markdown",
   "metadata": {},
   "source": [
    "## Trading Bot"
   ]
  },
  {
   "cell_type": "markdown",
   "metadata": {},
   "source": [
    "### Lots, sl & tp Preparations"
   ]
  },
  {
   "cell_type": "markdown",
   "metadata": {},
   "source": [
    "#### Retcode"
   ]
  },
  {
   "cell_type": "code",
   "execution_count": 9,
   "metadata": {},
   "outputs": [],
   "source": [
    "# Mapping retcodes/errors to messages\n",
    "retcode_messages = {\n",
    "    10004: \"Price has changed; a new quote is required.\",\n",
    "    10013: \"Invalid trade parameters.\",\n",
    "    10014: \"The volume specified is incorrect.\",\n",
    "    10016: \"The stop loss or take profit is invalid.\",\n",
    "    10017: \"Trading is disabled on this account.\",\n",
    "    10018: \"The market is currently closed.\",\n",
    "    10019: \"Insufficient funds to execute the trade.\",\n",
    "    10026: \"The server disabled trading at this time.\",\n",
    "    10027: \"The client disabled trading at this time.\",\n",
    "    10034: \"The requested volume exceeds the limit.\",\n",
    "    10011: \"General trading error.\",\n",
    "    10012: \"The trade request timed out.\",\n",
    "    10015: \"The specified price is invalid.\",\n",
    "    10020: \"The price has changed; resubmit the request.\",\n",
    "    10021: \"The specified price is currently unavailable.\",\n",
    "    10024: \"Too many requests sent in a short time.\",\n",
    "    10031: \"Lost connection to the server.\",\n",
    "    0: \"ERR_SUCCESS - The request was successful.\",\n",
    "    4752: \"Trading is disabled.\",\n",
    "    4753: \"The specified position could not be found.\",\n",
    "    4754: \"The specified order could not be found.\",\n",
    "    4755: \"The specified deal could not be found.\",\n",
    "}"
   ]
  },
  {
   "cell_type": "markdown",
   "metadata": {},
   "source": [
    "#### EURUSDm"
   ]
  },
  {
   "cell_type": "code",
   "execution_count": 51,
   "metadata": {},
   "outputs": [
    {
     "ename": "AttributeError",
     "evalue": "'NoneType' object has no attribute 'point'",
     "output_type": "error",
     "traceback": [
      "\u001b[1;31m---------------------------------------------------------------------------\u001b[0m",
      "\u001b[1;31mAttributeError\u001b[0m                            Traceback (most recent call last)",
      "Cell \u001b[1;32mIn[51], line 4\u001b[0m\n\u001b[0;32m      2\u001b[0m symbol \u001b[38;5;241m=\u001b[39m \u001b[38;5;124m'\u001b[39m\u001b[38;5;124mXAUUSDm\u001b[39m\u001b[38;5;124m'\u001b[39m\n\u001b[0;32m      3\u001b[0m lot \u001b[38;5;241m=\u001b[39m \u001b[38;5;241m0.01\u001b[39m\n\u001b[1;32m----> 4\u001b[0m point \u001b[38;5;241m=\u001b[39m \u001b[43mmt5\u001b[49m\u001b[38;5;241;43m.\u001b[39;49m\u001b[43msymbol_info\u001b[49m\u001b[43m(\u001b[49m\u001b[43msymbol\u001b[49m\u001b[43m)\u001b[49m\u001b[38;5;241;43m.\u001b[39;49m\u001b[43mpoint\u001b[49m \n\u001b[0;32m      5\u001b[0m tp_amount \u001b[38;5;241m=\u001b[39m \u001b[38;5;241m1\u001b[39m\n\u001b[0;32m      6\u001b[0m sl_amount \u001b[38;5;241m=\u001b[39m \u001b[38;5;241m1\u001b[39m\n",
      "\u001b[1;31mAttributeError\u001b[0m: 'NoneType' object has no attribute 'point'"
     ]
    }
   ],
   "source": [
    "# Trading Bot\n",
    "symbol = 'XAUUSDm'\n",
    "lot = 0.01\n",
    "point = mt5.symbol_info(symbol).point \n",
    "tp_amount = 1\n",
    "sl_amount = 1\n",
    "\n",
    "\n",
    "buy_order_type = mt5.ORDER_TYPE_BUY\n",
    "sell_order_type = mt5.ORDER_TYPE_SELL\n",
    "\n",
    "# Set up the trading request\n",
    "buy_price = mt5.symbol_info_tick(symbol).ask\n",
    "sell_price = mt5.symbol_info_tick(symbol).bid\n",
    "\n",
    "# Compute pip values\n",
    "tp_pips = tp_amount * point * 100\n",
    "sl_pips = sl_amount * point * 100\n",
    "\n",
    "# Stop loss and take profit using pips 60pips\n",
    "buy_sl = buy_price - (sl_pips) \n",
    "buy_tp = buy_price + (tp_pips)\n",
    "\n",
    "sell_sl = sell_price + (sl_pips)\n",
    "sell_tp = sell_price - (tp_pips)\n",
    "\n",
    "\n",
    "def create_order(symbol, lot, order_type, price, sl, tp):\n",
    "    request = {\n",
    "        \"action\": mt5.TRADE_ACTION_DEAL,\n",
    "        \"symbol\": symbol,\n",
    "        \"volume\": lot,\n",
    "        \"type\": order_type,\n",
    "        \"price\": price,\n",
    "        \"sl\": sl,\n",
    "        \"tp\": tp,\n",
    "        \"comment\": \"python open\",\n",
    "        \"type_time\": mt5.ORDER_TIME_GTC,\n",
    "        \"type_filling\": mt5.ORDER_FILLING_IOC,\n",
    "    }\n",
    "    order = mt5.order_send(request)\n",
    "    \n",
    "    # Handle the response code\n",
    "    if order.retcode in [10009, 10008]:\n",
    "        pass  # Continue with next code\n",
    "    else:\n",
    "        # Retrieve the message if retcode is known; else print full order details for unknown retcode\n",
    "        message = retcode_messages.get(order.retcode)\n",
    "        if message:\n",
    "            print(message)\n",
    "        else:\n",
    "            print(f\"Order failed with unknown error code: {order.retcode}\")\n",
    "            print(\"Error details:\", order)\n"
   ]
  },
  {
   "cell_type": "code",
   "execution_count": null,
   "metadata": {},
   "outputs": [],
   "source": [
    "create_order(symbol, lot, buy_order_type, buy_price, buy_sl, sell_sl)"
   ]
  },
  {
   "cell_type": "markdown",
   "metadata": {},
   "source": [
    "#### XAUUSD"
   ]
  },
  {
   "cell_type": "markdown",
   "metadata": {},
   "source": [
    "- At 1 lot size at 100pips = $100\n",
    "- At 0.1 lot size at 100pips = $10\n",
    "- At 0.01 lot size at 100pips = $1"
   ]
  },
  {
   "cell_type": "code",
   "execution_count": null,
   "metadata": {},
   "outputs": [],
   "source": [
    "mt5.symbol_info('XAUUSDm')"
   ]
  },
  {
   "cell_type": "code",
   "execution_count": 11,
   "metadata": {},
   "outputs": [
    {
     "ename": "AttributeError",
     "evalue": "'NoneType' object has no attribute 'point'",
     "output_type": "error",
     "traceback": [
      "\u001b[1;31m---------------------------------------------------------------------------\u001b[0m",
      "\u001b[1;31mAttributeError\u001b[0m                            Traceback (most recent call last)",
      "Cell \u001b[1;32mIn[11], line 4\u001b[0m\n\u001b[0;32m      2\u001b[0m symbol \u001b[38;5;241m=\u001b[39m \u001b[38;5;124m'\u001b[39m\u001b[38;5;124mXAUUSDm\u001b[39m\u001b[38;5;124m'\u001b[39m\n\u001b[0;32m      3\u001b[0m lot \u001b[38;5;241m=\u001b[39m \u001b[38;5;241m0.01\u001b[39m\n\u001b[1;32m----> 4\u001b[0m point \u001b[38;5;241m=\u001b[39m \u001b[43mmt5\u001b[49m\u001b[38;5;241;43m.\u001b[39;49m\u001b[43msymbol_info\u001b[49m\u001b[43m(\u001b[49m\u001b[43msymbol\u001b[49m\u001b[43m)\u001b[49m\u001b[38;5;241;43m.\u001b[39;49m\u001b[43mpoint\u001b[49m \n\u001b[0;32m      5\u001b[0m tp_amount \u001b[38;5;241m=\u001b[39m \u001b[38;5;241m10\u001b[39m\n\u001b[0;32m      6\u001b[0m sl_amount \u001b[38;5;241m=\u001b[39m \u001b[38;5;241m10\u001b[39m\n",
      "\u001b[1;31mAttributeError\u001b[0m: 'NoneType' object has no attribute 'point'"
     ]
    }
   ],
   "source": [
    "\n",
    "# Trading Bot\n",
    "symbol = 'XAUUSDm'\n",
    "lot = 0.01\n",
    "point = mt5.symbol_info(symbol).point \n",
    "tp_amount = 10\n",
    "sl_amount = 10\n",
    "\n",
    "\n",
    "buy_order_type = mt5.ORDER_TYPE_BUY\n",
    "sell_order_type = mt5.ORDER_TYPE_SELL\n",
    "\n",
    "# Set up the trading request\n",
    "buy_price = mt5.symbol_info_tick(symbol).ask\n",
    "sell_price = mt5.symbol_info_tick(symbol).bid\n",
    "\n",
    "# Compute pip values\n",
    "tp_pips = tp_amount * point * 1000\n",
    "sl_pips = sl_amount * point * 1000\n",
    "\n",
    "# Stop loss and take profit using pips 60pips\n",
    "buy_sl = buy_price - (sl_pips) \n",
    "buy_tp = buy_price + (tp_pips)\n",
    "\n",
    "sell_sl = sell_price + (sl_pips)\n",
    "sell_tp = sell_price - (tp_pips)\n",
    "\n",
    "\n",
    "def create_order(symbol, lot, order_type, price, sl, tp):\n",
    "    request = {\n",
    "        \"action\": mt5.TRADE_ACTION_DEAL,\n",
    "        \"symbol\": symbol,\n",
    "        \"volume\": lot,\n",
    "        \"type\": order_type,\n",
    "        \"price\": price,\n",
    "        \"sl\": sl,\n",
    "        \"tp\": tp,\n",
    "        \"comment\": \"python open\",\n",
    "        \"type_time\": mt5.ORDER_TIME_GTC,\n",
    "        \"type_filling\": mt5.ORDER_FILLING_IOC,\n",
    "    }\n",
    "    order = mt5.order_send(request)\n",
    "    \n",
    "    # Handle the response code\n",
    "    if order.retcode in [10009, 10008]:\n",
    "        pass  # Continue with next code\n",
    "    else:\n",
    "        # Retrieve the message if retcode is known; else print full order details for unknown retcode\n",
    "        message = retcode_messages.get(order.retcode)\n",
    "        if message:\n",
    "            print(message)\n",
    "        else:\n",
    "            print(f\"Order failed with unknown error code: {order.retcode}\")\n",
    "            print(\"Error details:\", order)\n",
    "            \n",
    "create_order(symbol, lot, buy_order_type, buy_price, buy_sl, sell_sl)\n"
   ]
  },
  {
   "cell_type": "markdown",
   "metadata": {},
   "source": [
    "#### BTCUSDm"
   ]
  },
  {
   "cell_type": "code",
   "execution_count": 274,
   "metadata": {},
   "outputs": [],
   "source": [
    "# Trading Bot\n",
    "symbol = 'BTCUSDm'\n",
    "lot = 0.01\n",
    "symbol_info = mt5.symbol_info(symbol)\n",
    "point = mt5.symbol_info(symbol).point \n",
    "spread = symbol_info.spread * point\n",
    "\n",
    "buy_order_type = mt5.ORDER_TYPE_BUY\n",
    "sell_order_type = mt5.ORDER_TYPE_SELL\n",
    "\n",
    "# Set up the trading request\n",
    "buy_price = mt5.symbol_info_tick(symbol).ask\n",
    "sell_price = mt5.symbol_info_tick(symbol).bid\n",
    "\n",
    "# Stop loss and take profit using pips 450pips (0.01) lots pips = 0.50$, 450 pips (0.02 lots) = 1.08\n",
    "buy_sl = (buy_price) - (5 * 900 * point * 10) \n",
    "buy_tp = (buy_price) + (5 * 900 * point * 10)\n",
    "\n",
    "sell_sl = (sell_price) + (5 * 900 * point * 10)\n",
    "sell_tp = (sell_price) - (5 * 900 * point * 10)\n",
    "\n",
    "\n",
    "def create_order(symbol, lot, order_type, price, sl, tp):\n",
    "    request = {\n",
    "        \"action\": mt5.TRADE_ACTION_DEAL,\n",
    "        \"symbol\": symbol,\n",
    "        \"volume\": lot,\n",
    "        \"type\": order_type,\n",
    "        \"price\": price,\n",
    "        \"sl\": sl,\n",
    "        \"tp\": tp,\n",
    "        \"comment\": \"python open\",\n",
    "        \"type_time\": mt5.ORDER_TIME_GTC,\n",
    "        \"type_filling\": mt5.ORDER_FILLING_IOC,\n",
    "    }\n",
    "    order = mt5.order_send(request)\n",
    "    \n",
    "    # Handle the response code\n",
    "    if order.retcode in [10009, 10008]:\n",
    "        pass  # Continue with next code\n",
    "    else:\n",
    "        # Retrieve the message if retcode is known; else print full order details for unknown retcode\n",
    "        message = retcode_messages.get(order.retcode)\n",
    "        if message:\n",
    "            print(message)\n",
    "        else:\n",
    "            print(f\"Order failed with unknown error code: {order.retcode}\")\n",
    "            print(\"Error details:\", order)\n"
   ]
  },
  {
   "cell_type": "code",
   "execution_count": 275,
   "metadata": {},
   "outputs": [],
   "source": [
    "create_order(symbol, lot, buy_order_type, buy_price, buy_sl, buy_tp)"
   ]
  },
  {
   "cell_type": "code",
   "execution_count": 183,
   "metadata": {},
   "outputs": [
    {
     "data": {
      "text/plain": [
       "103028.16"
      ]
     },
     "execution_count": 183,
     "metadata": {},
     "output_type": "execute_result"
    }
   ],
   "source": [
    "buy_price"
   ]
  },
  {
   "cell_type": "code",
   "execution_count": 184,
   "metadata": {},
   "outputs": [
    {
     "data": {
      "text/plain": [
       "28.8"
      ]
     },
     "execution_count": 184,
     "metadata": {},
     "output_type": "execute_result"
    }
   ],
   "source": [
    "spread"
   ]
  },
  {
   "cell_type": "code",
   "execution_count": 186,
   "metadata": {},
   "outputs": [
    {
     "name": "stdout",
     "output_type": "stream",
     "text": [
      "103066.96 103018.16\n"
     ]
    }
   ],
   "source": [
    "print(buy_tp, buy_sl)"
   ]
  },
  {
   "cell_type": "code",
   "execution_count": 123,
   "metadata": {},
   "outputs": [
    {
     "data": {
      "text/plain": [
       "0.01"
      ]
     },
     "execution_count": 123,
     "metadata": {},
     "output_type": "execute_result"
    }
   ],
   "source": [
    "symbol_info.volume_step"
   ]
  },
  {
   "cell_type": "code",
   "execution_count": 161,
   "metadata": {},
   "outputs": [
    {
     "name": "stdout",
     "output_type": "stream",
     "text": [
      "Symbol BTCUSDm not found.\n",
      "Failed to calculate lot size.\n"
     ]
    }
   ],
   "source": [
    "def calculate_lot_size(symbol, risk_amount, stop_loss_pips):\n",
    "    \"\"\"\n",
    "    Calculates the lot size based on the fixed risk amount and stop loss distance.\n",
    "    \"\"\"\n",
    "    # Get symbol info\n",
    "    symbol_info = mt5.symbol_info(symbol)\n",
    "    if not symbol_info:\n",
    "        print(f\"Symbol {symbol} not found.\")\n",
    "        return None\n",
    "\n",
    "    # Tick value and point\n",
    "    tick_value = symbol_info.trade_tick_value  # Value of one tick for one lot\n",
    "    point = symbol_info.point  # The minimum price change (e.g., 0.01 for BTCUSDm)\n",
    "\n",
    "    # Stop loss in price terms\n",
    "    stop_loss_price = stop_loss_pips * point  # Stop loss in price terms\n",
    "\n",
    "    # Lot size formula\n",
    "    lot_size = risk_amount / (stop_loss_price * tick_value)\n",
    "\n",
    "    # Ensure lot size adheres to broker constraints\n",
    "    lot_size = max(symbol_info.volume_min, min(lot_size, symbol_info.volume_max))\n",
    "    lot_size = round(lot_size / symbol_info.volume_step) * symbol_info.volume_step\n",
    "\n",
    "    return lot_size\n",
    "\n",
    "\n",
    "# Example usage\n",
    "symbol = \"BTCUSDm\"  # Trading symbol\n",
    "risk_amount = 4  # Risk per trade in USD\n",
    "stop_loss_pips = 10  # Stop loss distance in pips\n",
    "\n",
    "lot_size = calculate_lot_size(symbol, risk_amount, stop_loss_pips)\n",
    "if lot_size:\n",
    "    print(f\"Calculated lot size for {symbol}: {lot_size}\")\n",
    "else:\n",
    "    print(\"Failed to calculate lot size.\")\n",
    "\n"
   ]
  },
  {
   "cell_type": "code",
   "execution_count": 157,
   "metadata": {},
   "outputs": [],
   "source": [
    "def calculate_lot_size(symbol, stop_loss_pips, risk_amount):\n",
    "    \"\"\"\n",
    "    Calculate the appropriate lot size for a given symbol based on fixed risk amount and stop loss in pips.\n",
    "    \n",
    "    Args:\n",
    "        symbol (str): The trading symbol (e.g., \"EURUSD\")\n",
    "        stop_loss_pips (float): Stop loss distance in pips\n",
    "        risk_amount (float): Fixed risk amount in dollars (default: $1)\n",
    "    \n",
    "    Returns:\n",
    "        float: Calculated lot size respecting broker constraints\n",
    "    \"\"\"\n",
    "    # Get symbol information\n",
    "    symbol_info = mt5.symbol_info(symbol)\n",
    "    if symbol_info is None:\n",
    "        raise ValueError(f\"Symbol {symbol} not found\")\n",
    "    \n",
    "    # Extract symbol properties\n",
    "    pip_value = symbol_info.point\n",
    "    digits = symbol_info.digits\n",
    "    contract_size = symbol_info.trade_contract_size\n",
    "    volume_min = symbol_info.volume_min\n",
    "    volume_max = symbol_info.volume_max\n",
    "    volume_step = symbol_info.volume_step\n",
    "    \n",
    "    # Convert pip value based on digits\n",
    "    if digits == 3 or digits == 5:\n",
    "        pip_value *= 10\n",
    "    \n",
    "    # Calculate pip value in account currency (USD)\n",
    "    # For simplicity, assuming USD account. For other base currencies, \n",
    "    # you would need to apply the conversion rate\n",
    "    pip_value_usd = (pip_value * contract_size)\n",
    "    \n",
    "    # Calculate required lot size for $1 risk\n",
    "    lot_size = risk_amount / (stop_loss_pips * pip_value_usd)\n",
    "    \n",
    "    # Round to nearest volume step\n",
    "    lot_size = round(lot_size / volume_step) * volume_step\n",
    "    \n",
    "    # Ensure lot size is within broker constraints\n",
    "    lot_size = max(volume_min, min(volume_max, lot_size))\n",
    "    \n",
    "    return lot_size\n",
    "\n",
    "def validate_lot_size(symbol, lot_size, stop_loss_pips):\n",
    "    \"\"\"\n",
    "    Validate the calculated lot size and return actual risk amount.\n",
    "    \n",
    "    Args:\n",
    "        symbol (str): The trading symbol\n",
    "        lot_size (float): Calculated lot size\n",
    "        stop_loss_pips (float): Stop loss distance in pips\n",
    "    \n",
    "    Returns:\n",
    "        dict: Validation results including actual risk amount\n",
    "    \"\"\"\n",
    "    symbol_info = mt5.symbol_info(symbol)\n",
    "    pip_value = symbol_info.point\n",
    "    digits = symbol_info.digits\n",
    "    contract_size = symbol_info.trade_contract_size\n",
    "    \n",
    "    if digits == 3 or digits == 5:\n",
    "        pip_value *= 10\n",
    "        \n",
    "    actual_risk = lot_size * stop_loss_pips * pip_value * contract_size\n",
    "    \n",
    "    return {\n",
    "        \"lot_size\": lot_size,\n",
    "        \"actual_risk_usd\": round(actual_risk, 2),\n",
    "        \"stop_loss_pips\": stop_loss_pips,\n",
    "        \"within_constraints\": lot_size >= symbol_info.volume_min and lot_size <= symbol_info.volume_max\n",
    "    }"
   ]
  },
  {
   "cell_type": "code",
   "execution_count": null,
   "metadata": {},
   "outputs": [],
   "source": [
    "def close_order(symbol, lot, order_type, position):\n",
    "    request = {\n",
    "    \"action\": mt5.TRADE_ACTION_DEAL,\n",
    "    \"symbol\": symbol,\n",
    "    \"volume\": lot,\n",
    "    'position': position,\n",
    "    \"type\": order_type, # sell order\n",
    "    \"comment\": \"closed order\",\n",
    "    \"type_time\": mt5.ORDER_TIME_GTC,\n",
    "    \"type_filling\": mt5.ORDER_FILLING_IOC,\n",
    "    }\n",
    "    order = mt5.order_send(request)\n",
    "    \n",
    "    # Handle the response code\n",
    "    if order.retcode in [10009, 10008]:\n",
    "        pass  # Continue with next code\n",
    "    else:\n",
    "        # Retrieve the message if retcode is known; else print full order details for unknown retcode\n",
    "        message = retcode_messages.get(order.retcode)\n",
    "        if message:\n",
    "            print(message)\n",
    "        else:\n",
    "            print(f\"Order failed with unknown error code: {order.retcode}\")\n",
    "            print(\"Error details:\", order)"
   ]
  },
  {
   "cell_type": "markdown",
   "metadata": {},
   "source": [
    "### Bot"
   ]
  },
  {
   "cell_type": "code",
   "execution_count": 52,
   "metadata": {},
   "outputs": [
    {
     "ename": "KeyError",
     "evalue": "'time'",
     "output_type": "error",
     "traceback": [
      "\u001b[1;31m---------------------------------------------------------------------------\u001b[0m",
      "\u001b[1;31mKeyError\u001b[0m                                  Traceback (most recent call last)",
      "Cell \u001b[1;32mIn[52], line 4\u001b[0m\n\u001b[0;32m      1\u001b[0m \u001b[38;5;28;01mwhile\u001b[39;00m \u001b[38;5;28;01mTrue\u001b[39;00m:\n\u001b[0;32m      2\u001b[0m     \u001b[38;5;66;03m# Retrieve currency data in 1-minute timeframe with a time range\u001b[39;00m\n\u001b[0;32m      3\u001b[0m     rates \u001b[38;5;241m=\u001b[39m pd\u001b[38;5;241m.\u001b[39mDataFrame(mt5\u001b[38;5;241m.\u001b[39mcopy_rates_range(symbols, mt5\u001b[38;5;241m.\u001b[39mTIMEFRAME_M3, datetime(\u001b[38;5;241m2024\u001b[39m, \u001b[38;5;241m10\u001b[39m, \u001b[38;5;241m24\u001b[39m), datetime\u001b[38;5;241m.\u001b[39mnow()))\n\u001b[1;32m----> 4\u001b[0m     rates[\u001b[38;5;124m'\u001b[39m\u001b[38;5;124mtime\u001b[39m\u001b[38;5;124m'\u001b[39m] \u001b[38;5;241m=\u001b[39m pd\u001b[38;5;241m.\u001b[39mto_datetime(\u001b[43mrates\u001b[49m\u001b[43m[\u001b[49m\u001b[38;5;124;43m'\u001b[39;49m\u001b[38;5;124;43mtime\u001b[39;49m\u001b[38;5;124;43m'\u001b[39;49m\u001b[43m]\u001b[49m, unit\u001b[38;5;241m=\u001b[39m\u001b[38;5;124m'\u001b[39m\u001b[38;5;124ms\u001b[39m\u001b[38;5;124m'\u001b[39m)\n\u001b[0;32m      6\u001b[0m     \u001b[38;5;66;03m# Define OHLC values for current and previous candles\u001b[39;00m\n\u001b[0;32m      7\u001b[0m     current_close \u001b[38;5;241m=\u001b[39m rates\u001b[38;5;241m.\u001b[39miloc[\u001b[38;5;241m-\u001b[39m\u001b[38;5;241m1\u001b[39m][\u001b[38;5;124m'\u001b[39m\u001b[38;5;124mclose\u001b[39m\u001b[38;5;124m'\u001b[39m]\n",
      "File \u001b[1;32mc:\\Users\\Pc\\Desktop\\Python_trading_bot\\Forex_Trading_Bot_and_Analysis\\.venv\\lib\\site-packages\\pandas\\core\\frame.py:3761\u001b[0m, in \u001b[0;36mDataFrame.__getitem__\u001b[1;34m(self, key)\u001b[0m\n\u001b[0;32m   3759\u001b[0m \u001b[38;5;28;01mif\u001b[39;00m \u001b[38;5;28mself\u001b[39m\u001b[38;5;241m.\u001b[39mcolumns\u001b[38;5;241m.\u001b[39mnlevels \u001b[38;5;241m>\u001b[39m \u001b[38;5;241m1\u001b[39m:\n\u001b[0;32m   3760\u001b[0m     \u001b[38;5;28;01mreturn\u001b[39;00m \u001b[38;5;28mself\u001b[39m\u001b[38;5;241m.\u001b[39m_getitem_multilevel(key)\n\u001b[1;32m-> 3761\u001b[0m indexer \u001b[38;5;241m=\u001b[39m \u001b[38;5;28;43mself\u001b[39;49m\u001b[38;5;241;43m.\u001b[39;49m\u001b[43mcolumns\u001b[49m\u001b[38;5;241;43m.\u001b[39;49m\u001b[43mget_loc\u001b[49m\u001b[43m(\u001b[49m\u001b[43mkey\u001b[49m\u001b[43m)\u001b[49m\n\u001b[0;32m   3762\u001b[0m \u001b[38;5;28;01mif\u001b[39;00m is_integer(indexer):\n\u001b[0;32m   3763\u001b[0m     indexer \u001b[38;5;241m=\u001b[39m [indexer]\n",
      "File \u001b[1;32mc:\\Users\\Pc\\Desktop\\Python_trading_bot\\Forex_Trading_Bot_and_Analysis\\.venv\\lib\\site-packages\\pandas\\core\\indexes\\range.py:349\u001b[0m, in \u001b[0;36mRangeIndex.get_loc\u001b[1;34m(self, key)\u001b[0m\n\u001b[0;32m    347\u001b[0m         \u001b[38;5;28;01mraise\u001b[39;00m \u001b[38;5;167;01mKeyError\u001b[39;00m(key) \u001b[38;5;28;01mfrom\u001b[39;00m \u001b[38;5;21;01merr\u001b[39;00m\n\u001b[0;32m    348\u001b[0m \u001b[38;5;28;01mif\u001b[39;00m \u001b[38;5;28misinstance\u001b[39m(key, Hashable):\n\u001b[1;32m--> 349\u001b[0m     \u001b[38;5;28;01mraise\u001b[39;00m \u001b[38;5;167;01mKeyError\u001b[39;00m(key)\n\u001b[0;32m    350\u001b[0m \u001b[38;5;28mself\u001b[39m\u001b[38;5;241m.\u001b[39m_check_indexing_error(key)\n\u001b[0;32m    351\u001b[0m \u001b[38;5;28;01mraise\u001b[39;00m \u001b[38;5;167;01mKeyError\u001b[39;00m(key)\n",
      "\u001b[1;31mKeyError\u001b[0m: 'time'"
     ]
    }
   ],
   "source": [
    "while True:\n",
    "    # Retrieve currency data in 1-minute timeframe with a time range\n",
    "    rates = pd.DataFrame(mt5.copy_rates_range(symbols, mt5.TIMEFRAME_M3, datetime(2024, 10, 24), datetime.now()))\n",
    "    rates['time'] = pd.to_datetime(rates['time'], unit='s')\n",
    "\n",
    "    # Define OHLC values for current and previous candles\n",
    "    current_close = rates.iloc[-1]['close']\n",
    "    last_close = rates.iloc[-2]['close']\n",
    "    last_high = rates.iloc[-2]['high']\n",
    "    last_low = rates.iloc[-2]['low']\n",
    "\n",
    "    # Define conditions\n",
    "    long_condition = current_close > last_high\n",
    "    short_condition = current_close < last_low\n",
    "    close_long_condition = current_close < last_close\n",
    "    close_short_condition = current_close > last_close\n",
    "\n",
    "    # Check for open positions and set flags\n",
    "    positions = mt5.positions_get()\n",
    "    no_positions = len(positions) == 0\n",
    "    already_buy = any(pos._asdict()['type'] == 0 for pos in positions)\n",
    "    already_sell = any(pos._asdict()['type'] == 1 for pos in positions)\n",
    "\n",
    "    # Execution logic for placing and closing orders\n",
    "    if long_condition and no_positions:\n",
    "        create_order(symbol, lot, buy_order_type, buy_price, buy_sl, buy_tp)\n",
    "        print('Buy Order Placed')\n",
    "    elif long_condition and already_sell:\n",
    "        position = positions[0]._asdict()['ticket']\n",
    "        close_order(symbol, lot, sell_order_type, position)\n",
    "        print('Sell Position Closed')\n",
    "        time.sleep(1)\n",
    "        create_order(symbol, lot, buy_order_type, buy_price, buy_sl, buy_tp)\n",
    "    elif long_condition and already_buy:\n",
    "        print('Active Buy Position')\n",
    "\n",
    "    if short_condition and no_positions:\n",
    "        create_order(symbol, lot, sell_order_type, sell_price, sell_sl, sell_tp)\n",
    "        print('Sell Order Placed')\n",
    "    elif short_condition and already_buy:\n",
    "        position = positions[0]._asdict()['ticket']\n",
    "        close_order(symbol, lot, buy_order_type, position)\n",
    "        print('Buy Position Closed')\n",
    "        time.sleep(1)\n",
    "        create_order(symbol, lot, sell_order_type, sell_price, sell_sl, sell_tp)\n",
    "    elif short_condition and already_sell:\n",
    "        print('Active Sell Position')\n",
    "\n",
    "    # Close all 'buy' positions if `close_long_condition` is met\n",
    "    if close_long_condition and already_buy:\n",
    "        for pos in positions:\n",
    "            if pos._asdict()['type'] == 0:  # 'buy' type\n",
    "                ticket = pos._asdict()['ticket']\n",
    "                close_order(symbol, lot, buy_order_type, ticket)\n",
    "                print(\"Buy Position Closed\")\n",
    "    # Close all 'sell' positions if `close_short_condition` is met\n",
    "    if close_short_condition and already_sell:\n",
    "        for pos in positions:\n",
    "            if pos._asdict()['type'] == 1:  # 'sell' type\n",
    "                ticket = pos._asdict()['ticket']\n",
    "                close_order(symbol, lot, sell_order_type, ticket)\n",
    "                print(\"Sell Position Closed\")\n",
    "\n",
    "    # Wait for 3 minute before the next iteration\n",
    "    time.sleep(180)\n"
   ]
  }
 ],
 "metadata": {
  "kernelspec": {
   "display_name": ".venv",
   "language": "python",
   "name": "python3"
  },
  "language_info": {
   "codemirror_mode": {
    "name": "ipython",
    "version": 3
   },
   "file_extension": ".py",
   "mimetype": "text/x-python",
   "name": "python",
   "nbconvert_exporter": "python",
   "pygments_lexer": "ipython3",
   "version": "3.8.10"
  }
 },
 "nbformat": 4,
 "nbformat_minor": 2
}
